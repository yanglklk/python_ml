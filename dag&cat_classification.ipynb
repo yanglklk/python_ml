{
 "cells": [
  {
   "cell_type": "code",
   "execution_count": 1,
   "metadata": {},
   "outputs": [],
   "source": [
    "import os,shutil\n",
    "original_data_dir=r'F:\\work\\pywork\\ipython\\keras_data\\dog&cat\\train'\n",
    "base_dir=r'F:\\work\\pywork\\ipython\\keras_data\\dog&cat_small'\n",
    "\n",
    "if os.path.isdir(base_dir):\n",
    "    shutil.rmtree(base_dir)\n",
    "\n",
    "os.makedirs(base_dir)\n",
    "\n",
    "train_dir=os.path.join(base_dir,'train')\n",
    "os.makedirs(train_dir)\n",
    "val_dir=os.path.join(base_dir,'val')\n",
    "os.makedirs(val_dir)\n",
    "test_dir=os.path.join(base_dir,'test')\n",
    "os.makedirs(test_dir)\n",
    "\n",
    "train_cat_dir=os.path.join(train_dir,'cats')\n",
    "os.makedirs(train_cat_dir)\n",
    "train_dog_dir=os.path.join(train_dir,'dogs')\n",
    "os.makedirs(train_dog_dir)\n",
    "\n",
    "val_cat_dir=os.path.join(val_dir,'cats')\n",
    "os.makedirs(val_cat_dir)\n",
    "val_dog_dir=os.path.join(val_dir,'dogs')\n",
    "os.makedirs(val_dog_dir)\n",
    "\n",
    "test_cat_dir=os.path.join(test_dir,'cats')\n",
    "os.makedirs(test_cat_dir)\n",
    "test_dog_dir=os.path.join(test_dir,'dogs')\n",
    "os.makedirs(test_dog_dir)"
   ]
  },
  {
   "cell_type": "code",
   "execution_count": 2,
   "metadata": {},
   "outputs": [],
   "source": [
    "\n",
    "def copyfile(destination_path,fnames,original_data_dir=original_data_dir):\n",
    "    for fname in fnames:\n",
    "        src=os.path.join(original_data_dir,fname)\n",
    "        dst=os.path.join(destination_path,fname)\n",
    "        shutil.copyfile(src,dst)"
   ]
  },
  {
   "cell_type": "code",
   "execution_count": 3,
   "metadata": {},
   "outputs": [],
   "source": [
    "fnames=['cat.{}.jpg'.format(i) for i in range(1000)]\n",
    "copyfile(train_cat_dir,fnames)"
   ]
  },
  {
   "cell_type": "code",
   "execution_count": 4,
   "metadata": {},
   "outputs": [],
   "source": [
    "fnames=['cat.{}.jpg'.format(i) for i in range(1000,1500)]\n",
    "copyfile(val_cat_dir,fnames)\n",
    "fnames=['cat.{}.jpg'.format(i) for i in range(1500,2000)]\n",
    "copyfile(test_cat_dir,fnames)"
   ]
  },
  {
   "cell_type": "code",
   "execution_count": 5,
   "metadata": {},
   "outputs": [],
   "source": [
    "fnames=['dog.{}.jpg'.format(i) for i in range(1000)]\n",
    "copyfile(train_dog_dir,fnames)\n",
    "fnames=['dog.{}.jpg'.format(i) for i in range(1000,1500)]\n",
    "copyfile(val_dog_dir,fnames)\n",
    "fnames=['dog.{}.jpg'.format(i) for i in range(1500,2000)]\n",
    "copyfile(test_dog_dir,fnames)"
   ]
  },
  {
   "cell_type": "code",
   "execution_count": 6,
   "metadata": {},
   "outputs": [
    {
     "data": {
      "text/plain": [
       "1000"
      ]
     },
     "execution_count": 6,
     "metadata": {},
     "output_type": "execute_result"
    }
   ],
   "source": [
    "len(os.listdir(train_cat_dir))"
   ]
  },
  {
   "cell_type": "code",
   "execution_count": 7,
   "metadata": {},
   "outputs": [
    {
     "name": "stderr",
     "output_type": "stream",
     "text": [
      "Using TensorFlow backend.\n"
     ]
    },
    {
     "name": "stdout",
     "output_type": "stream",
     "text": [
      "_________________________________________________________________\n",
      "Layer (type)                 Output Shape              Param #   \n",
      "=================================================================\n",
      "conv2d_1 (Conv2D)            (None, 148, 148, 32)      896       \n",
      "_________________________________________________________________\n",
      "max_pooling2d_1 (MaxPooling2 (None, 74, 74, 32)        0         \n",
      "_________________________________________________________________\n",
      "conv2d_2 (Conv2D)            (None, 72, 72, 64)        18496     \n",
      "_________________________________________________________________\n",
      "max_pooling2d_2 (MaxPooling2 (None, 36, 36, 64)        0         \n",
      "_________________________________________________________________\n",
      "conv2d_3 (Conv2D)            (None, 34, 34, 128)       73856     \n",
      "_________________________________________________________________\n",
      "max_pooling2d_3 (MaxPooling2 (None, 17, 17, 128)       0         \n",
      "_________________________________________________________________\n",
      "conv2d_4 (Conv2D)            (None, 15, 15, 128)       147584    \n",
      "_________________________________________________________________\n",
      "max_pooling2d_4 (MaxPooling2 (None, 7, 7, 128)         0         \n",
      "_________________________________________________________________\n",
      "flatten_1 (Flatten)          (None, 6272)              0         \n",
      "_________________________________________________________________\n",
      "dense_1 (Dense)              (None, 512)               3211776   \n",
      "_________________________________________________________________\n",
      "dense_2 (Dense)              (None, 1)                 513       \n",
      "=================================================================\n",
      "Total params: 3,453,121\n",
      "Trainable params: 3,453,121\n",
      "Non-trainable params: 0\n",
      "_________________________________________________________________\n"
     ]
    }
   ],
   "source": [
    "from keras import models,layers\n",
    "model=models.Sequential()\n",
    "model.add(layers.Conv2D(32,(3,3),activation='relu',\n",
    "                       input_shape=(150,150,3)))\n",
    "model.add(layers.MaxPooling2D((2,2)))\n",
    "model.add(layers.Conv2D(64,(3,3),activation='relu'))\n",
    "model.add(layers.MaxPooling2D((2,2)))\n",
    "model.add(layers.Conv2D(128,(3,3),activation='relu'))\n",
    "model.add(layers.MaxPooling2D((2,2)))\n",
    "model.add(layers.Conv2D(128,(3,3),activation='relu'))\n",
    "model.add(layers.MaxPooling2D((2,2)))\n",
    "model.add(layers.Flatten())\n",
    "model.add(layers.Dense(512,activation='relu'))\n",
    "model.add(layers.Dense(1,activation='sigmoid'))\n",
    "model.summary()"
   ]
  },
  {
   "cell_type": "code",
   "execution_count": 8,
   "metadata": {},
   "outputs": [],
   "source": [
    "from keras import optimizers,losses\n",
    "\n",
    "model.compile(loss=losses.binary_crossentropy,\n",
    "             optimizer=optimizers.RMSprop(lr=1e-4),\n",
    "             metrics=['acc'])"
   ]
  },
  {
   "cell_type": "code",
   "execution_count": 9,
   "metadata": {},
   "outputs": [
    {
     "name": "stdout",
     "output_type": "stream",
     "text": [
      "Found 2000 images belonging to 2 classes.\n",
      "Found 1000 images belonging to 2 classes.\n"
     ]
    }
   ],
   "source": [
    "from keras.preprocessing.image import ImageDataGenerator\n",
    "train_datagen=ImageDataGenerator(rescale=1./255) \n",
    "test_datagen=ImageDataGenerator(rescale=1./255)\n",
    "train_genertor=train_datagen.flow_from_directory(\n",
    "                train_dir,\n",
    "                target_size=(150,150),\n",
    "                batch_size=20,\n",
    "                class_mode='binary')\n",
    "val_genertor=test_datagen.flow_from_directory(\n",
    "                val_dir,\n",
    "                target_size=(150,150),\n",
    "                batch_size=20,\n",
    "                class_mode='binary')"
   ]
  },
  {
   "cell_type": "code",
   "execution_count": 10,
   "metadata": {},
   "outputs": [
    {
     "name": "stdout",
     "output_type": "stream",
     "text": [
      "(20, 150, 150, 3) (20,)\n"
     ]
    }
   ],
   "source": [
    "i=0\n",
    "for data,label in train_genertor:\n",
    "    print(data.shape,label.shape)\n",
    "    break"
   ]
  },
  {
   "cell_type": "code",
   "execution_count": 13,
   "metadata": {},
   "outputs": [
    {
     "name": "stdout",
     "output_type": "stream",
     "text": [
      "Epoch 1/30\n",
      "100/100 [==============================] - 70s 702ms/step - loss: 0.6914 - acc: 0.5300 - val_loss: 0.6782 - val_acc: 0.5530\n",
      "Epoch 2/30\n",
      "100/100 [==============================] - 38s 383ms/step - loss: 0.6643 - acc: 0.6020 - val_loss: 0.6700 - val_acc: 0.5540\n",
      "Epoch 3/30\n",
      "100/100 [==============================] - 27s 273ms/step - loss: 0.6142 - acc: 0.6690 - val_loss: 0.6531 - val_acc: 0.6210\n",
      "Epoch 4/30\n",
      "100/100 [==============================] - 9s 86ms/step - loss: 0.5773 - acc: 0.7025 - val_loss: 0.6279 - val_acc: 0.6330\n",
      "Epoch 5/30\n",
      "100/100 [==============================] - 9s 86ms/step - loss: 0.5339 - acc: 0.7285 - val_loss: 0.5899 - val_acc: 0.6790\n",
      "Epoch 6/30\n",
      "100/100 [==============================] - 9s 86ms/step - loss: 0.5130 - acc: 0.7375 - val_loss: 0.5831 - val_acc: 0.6890\n",
      "Epoch 7/30\n",
      "100/100 [==============================] - 9s 86ms/step - loss: 0.4861 - acc: 0.7595 - val_loss: 0.5641 - val_acc: 0.7050\n",
      "Epoch 8/30\n",
      "100/100 [==============================] - 9s 86ms/step - loss: 0.4603 - acc: 0.7975 - val_loss: 0.5712 - val_acc: 0.6990\n",
      "Epoch 9/30\n",
      "100/100 [==============================] - 9s 86ms/step - loss: 0.4418 - acc: 0.7920 - val_loss: 0.5979 - val_acc: 0.6870\n",
      "Epoch 10/30\n",
      "100/100 [==============================] - 9s 86ms/step - loss: 0.4197 - acc: 0.8030 - val_loss: 0.5575 - val_acc: 0.7080\n",
      "Epoch 11/30\n",
      "100/100 [==============================] - 9s 86ms/step - loss: 0.3819 - acc: 0.8250 - val_loss: 0.6022 - val_acc: 0.7070\n",
      "Epoch 12/30\n",
      "100/100 [==============================] - 9s 86ms/step - loss: 0.3722 - acc: 0.8320 - val_loss: 0.6349 - val_acc: 0.6960\n",
      "Epoch 13/30\n",
      "100/100 [==============================] - 21s 210ms/step - loss: 0.3432 - acc: 0.8460 - val_loss: 0.5714 - val_acc: 0.7240\n",
      "Epoch 14/30\n",
      "100/100 [==============================] - 9s 86ms/step - loss: 0.3244 - acc: 0.8585 - val_loss: 0.5957 - val_acc: 0.7110\n",
      "Epoch 15/30\n",
      "100/100 [==============================] - 9s 89ms/step - loss: 0.2958 - acc: 0.8770 - val_loss: 0.5906 - val_acc: 0.7290\n",
      "Epoch 16/30\n",
      "100/100 [==============================] - 17s 166ms/step - loss: 0.2741 - acc: 0.8900 - val_loss: 0.5767 - val_acc: 0.7340\n",
      "Epoch 17/30\n",
      "100/100 [==============================] - 18s 184ms/step - loss: 0.2520 - acc: 0.9055 - val_loss: 0.6297 - val_acc: 0.7190\n",
      "Epoch 18/30\n",
      "100/100 [==============================] - 26s 263ms/step - loss: 0.2313 - acc: 0.9080 - val_loss: 0.6125 - val_acc: 0.7350\n",
      "Epoch 19/30\n",
      "100/100 [==============================] - 22s 221ms/step - loss: 0.2086 - acc: 0.9230 - val_loss: 0.6293 - val_acc: 0.7380\n",
      "Epoch 20/30\n",
      "100/100 [==============================] - 9s 92ms/step - loss: 0.1887 - acc: 0.9315 - val_loss: 0.6696 - val_acc: 0.7390\n",
      "Epoch 21/30\n",
      "100/100 [==============================] - 9s 86ms/step - loss: 0.1770 - acc: 0.9405 - val_loss: 0.6495 - val_acc: 0.7370\n",
      "Epoch 22/30\n",
      "100/100 [==============================] - 9s 86ms/step - loss: 0.1580 - acc: 0.9445 - val_loss: 0.6925 - val_acc: 0.7390\n",
      "Epoch 23/30\n",
      "100/100 [==============================] - 9s 86ms/step - loss: 0.1301 - acc: 0.9570 - val_loss: 0.7734 - val_acc: 0.7220\n",
      "Epoch 24/30\n",
      "100/100 [==============================] - 9s 86ms/step - loss: 0.1195 - acc: 0.9670 - val_loss: 0.9148 - val_acc: 0.6990\n",
      "Epoch 25/30\n",
      "100/100 [==============================] - 9s 86ms/step - loss: 0.1126 - acc: 0.9645 - val_loss: 0.8319 - val_acc: 0.7220\n",
      "Epoch 26/30\n",
      "100/100 [==============================] - 9s 86ms/step - loss: 0.0900 - acc: 0.9740 - val_loss: 0.8156 - val_acc: 0.7340\n",
      "Epoch 27/30\n",
      "100/100 [==============================] - 9s 86ms/step - loss: 0.0824 - acc: 0.9750 - val_loss: 0.8458 - val_acc: 0.7300\n",
      "Epoch 28/30\n",
      "100/100 [==============================] - 9s 86ms/step - loss: 0.0719 - acc: 0.9810 - val_loss: 0.8589 - val_acc: 0.7370\n",
      "Epoch 29/30\n",
      "100/100 [==============================] - 9s 86ms/step - loss: 0.0690 - acc: 0.9770 - val_loss: 0.9143 - val_acc: 0.7270\n",
      "Epoch 30/30\n",
      "100/100 [==============================] - 9s 86ms/step - loss: 0.0574 - acc: 0.9820 - val_loss: 1.1353 - val_acc: 0.7140\n"
     ]
    }
   ],
   "source": [
    "history=model.fit_generator(\n",
    "    train_genertor,\n",
    "    steps_per_epoch=100,\n",
    "    epochs=30,\n",
    "    validation_data=val_genertor,\n",
    "    validation_steps=50)\n",
    "model.save(r'model/cat_and_dog_small_1.h5')"
   ]
  },
  {
   "cell_type": "code",
   "execution_count": 36,
   "metadata": {},
   "outputs": [],
   "source": [
    "import matplotlib.pyplot as plt\n",
    "%matplotlib inline\n",
    "def plt_loss_acc(history):\n",
    "    acc=history.history['acc']\n",
    "    val_acc=history.history['val_acc']\n",
    "    loss=history.history['loss']\n",
    "    val_loss=history.history['val_loss']\n",
    "\n",
    "\n",
    "\n",
    "    epochs=range(1,len(acc)+1)\n",
    "    plt.plot(epochs,acc,'bo',label='train_acc')\n",
    "    plt.plot(epochs,val_acc,'b--',label='val_acc')\n",
    "\n",
    "    plt.legend()\n",
    "    plt.figure()\n",
    "    plt.plot(epochs,loss,'go',label='train_loss')\n",
    "    plt.plot(epochs,val_loss,'g--',label='val_loss')\n",
    "    plt.legend()"
   ]
  },
  {
   "cell_type": "code",
   "execution_count": 26,
   "metadata": {},
   "outputs": [],
   "source": [
    "from keras import models,layers,optimizers,losses\n",
    "model=models.Sequential()\n",
    "model.add(layers.Conv2D(32,(3,3),activation='relu',\n",
    "                       input_shape=(150,150,3)))\n",
    "model.add(layers.MaxPooling2D((2,2)))\n",
    "model.add(layers.Conv2D(64,(3,3),activation='relu'))\n",
    "model.add(layers.MaxPooling2D((2,2)))\n",
    "model.add(layers.Conv2D(128,(3,3),activation='relu'))\n",
    "model.add(layers.MaxPooling2D((2,2)))\n",
    "model.add(layers.Conv2D(128,(3,3),activation='relu'))\n",
    "model.add(layers.MaxPooling2D((2,2)))\n",
    "model.add(layers.Flatten())\n",
    "model.add(layers.Dropout(0.5))\n",
    "model.add(layers.Dense(512,activation='relu'))\n",
    "model.add(layers.Dense(1,activation='sigmoid'))\n",
    "\n",
    "\n",
    "model.compile(loss=losses.binary_crossentropy,\n",
    "             optimizer=optimizers.RMSprop(lr=1e-4),\n",
    "             metrics=['acc'])"
   ]
  },
  {
   "cell_type": "code",
   "execution_count": 33,
   "metadata": {},
   "outputs": [
    {
     "name": "stdout",
     "output_type": "stream",
     "text": [
      "Found 2000 images belonging to 2 classes.\n",
      "Found 1000 images belonging to 2 classes.\n",
      "Epoch 1/100\n",
      "100/100 [==============================] - 18s 182ms/step - loss: 0.6651 - acc: 0.5859 - val_loss: 0.6806 - val_acc: 0.5393\n",
      "Epoch 2/100\n",
      "100/100 [==============================] - 16s 163ms/step - loss: 0.6575 - acc: 0.5956 - val_loss: 0.6390 - val_acc: 0.6160\n",
      "Epoch 3/100\n",
      "100/100 [==============================] - 16s 164ms/step - loss: 0.6356 - acc: 0.6450 - val_loss: 0.6103 - val_acc: 0.6548\n",
      "Epoch 4/100\n",
      "100/100 [==============================] - 16s 165ms/step - loss: 0.6180 - acc: 0.6528 - val_loss: 0.6226 - val_acc: 0.6385\n",
      "Epoch 5/100\n",
      "100/100 [==============================] - 16s 163ms/step - loss: 0.6080 - acc: 0.6669 - val_loss: 0.5682 - val_acc: 0.6891\n",
      "Epoch 6/100\n",
      "100/100 [==============================] - 16s 162ms/step - loss: 0.5992 - acc: 0.6750 - val_loss: 0.5816 - val_acc: 0.6862\n",
      "Epoch 7/100\n",
      "100/100 [==============================] - 17s 165ms/step - loss: 0.5892 - acc: 0.6781 - val_loss: 0.5562 - val_acc: 0.7088\n",
      "Epoch 8/100\n",
      "100/100 [==============================] - 17s 165ms/step - loss: 0.5847 - acc: 0.6941 - val_loss: 0.5925 - val_acc: 0.6875\n",
      "Epoch 9/100\n",
      "100/100 [==============================] - 16s 164ms/step - loss: 0.5861 - acc: 0.6944 - val_loss: 0.5382 - val_acc: 0.7171\n",
      "Epoch 10/100\n",
      "100/100 [==============================] - 16s 165ms/step - loss: 0.5733 - acc: 0.6975 - val_loss: 0.5518 - val_acc: 0.7157\n",
      "Epoch 11/100\n",
      "100/100 [==============================] - 16s 164ms/step - loss: 0.5763 - acc: 0.7013 - val_loss: 0.5471 - val_acc: 0.7159\n",
      "Epoch 12/100\n",
      "100/100 [==============================] - 16s 165ms/step - loss: 0.5651 - acc: 0.7037 - val_loss: 0.5531 - val_acc: 0.7081\n",
      "Epoch 13/100\n",
      "100/100 [==============================] - 17s 165ms/step - loss: 0.5648 - acc: 0.7103 - val_loss: 0.5356 - val_acc: 0.7320\n",
      "Epoch 14/100\n",
      "100/100 [==============================] - 16s 162ms/step - loss: 0.5523 - acc: 0.7197 - val_loss: 0.6175 - val_acc: 0.6561\n",
      "Epoch 15/100\n",
      "100/100 [==============================] - 17s 166ms/step - loss: 0.5437 - acc: 0.7194 - val_loss: 0.5447 - val_acc: 0.7133\n",
      "Epoch 16/100\n",
      "100/100 [==============================] - 17s 171ms/step - loss: 0.5490 - acc: 0.7200 - val_loss: 0.5185 - val_acc: 0.7403\n",
      "Epoch 17/100\n",
      "100/100 [==============================] - 16s 164ms/step - loss: 0.5359 - acc: 0.7278 - val_loss: 0.5037 - val_acc: 0.7443\n",
      "Epoch 18/100\n",
      "100/100 [==============================] - 17s 173ms/step - loss: 0.5333 - acc: 0.7341 - val_loss: 0.5148 - val_acc: 0.7358\n",
      "Epoch 19/100\n",
      "100/100 [==============================] - 16s 163ms/step - loss: 0.5379 - acc: 0.7313 - val_loss: 0.5007 - val_acc: 0.7487\n",
      "Epoch 20/100\n",
      "100/100 [==============================] - 16s 163ms/step - loss: 0.5176 - acc: 0.7397 - val_loss: 0.5131 - val_acc: 0.7423\n",
      "Epoch 21/100\n",
      "100/100 [==============================] - 16s 163ms/step - loss: 0.5197 - acc: 0.7362 - val_loss: 0.4883 - val_acc: 0.7684\n",
      "Epoch 22/100\n",
      "100/100 [==============================] - 17s 166ms/step - loss: 0.5150 - acc: 0.7419 - val_loss: 0.5059 - val_acc: 0.7513\n",
      "Epoch 23/100\n",
      "100/100 [==============================] - 16s 164ms/step - loss: 0.5268 - acc: 0.7356 - val_loss: 0.5121 - val_acc: 0.7360\n",
      "Epoch 24/100\n",
      "100/100 [==============================] - 16s 162ms/step - loss: 0.5052 - acc: 0.7509 - val_loss: 0.5058 - val_acc: 0.7448\n",
      "Epoch 25/100\n",
      "100/100 [==============================] - 16s 163ms/step - loss: 0.5143 - acc: 0.7428 - val_loss: 0.4913 - val_acc: 0.7552\n",
      "Epoch 26/100\n",
      "100/100 [==============================] - 16s 162ms/step - loss: 0.5098 - acc: 0.7406 - val_loss: 0.4881 - val_acc: 0.7678\n",
      "Epoch 27/100\n",
      "100/100 [==============================] - 16s 162ms/step - loss: 0.5083 - acc: 0.7441 - val_loss: 0.4797 - val_acc: 0.7732\n",
      "Epoch 28/100\n",
      "100/100 [==============================] - 16s 161ms/step - loss: 0.4946 - acc: 0.7603 - val_loss: 0.4622 - val_acc: 0.7779\n",
      "Epoch 29/100\n",
      "100/100 [==============================] - 16s 161ms/step - loss: 0.4952 - acc: 0.7541 - val_loss: 0.4731 - val_acc: 0.7680\n",
      "Epoch 30/100\n",
      "100/100 [==============================] - 16s 162ms/step - loss: 0.4957 - acc: 0.7578 - val_loss: 0.4632 - val_acc: 0.7805\n",
      "Epoch 31/100\n",
      "100/100 [==============================] - 16s 161ms/step - loss: 0.4808 - acc: 0.7669 - val_loss: 0.4763 - val_acc: 0.7719\n",
      "Epoch 32/100\n",
      "100/100 [==============================] - 16s 161ms/step - loss: 0.4910 - acc: 0.7569 - val_loss: 0.4616 - val_acc: 0.7841\n",
      "Epoch 33/100\n",
      "100/100 [==============================] - 16s 161ms/step - loss: 0.4747 - acc: 0.7740 - val_loss: 0.4938 - val_acc: 0.7659\n",
      "Epoch 34/100\n",
      "100/100 [==============================] - 16s 161ms/step - loss: 0.4824 - acc: 0.7734 - val_loss: 0.4562 - val_acc: 0.7964\n",
      "Epoch 35/100\n",
      "100/100 [==============================] - 16s 162ms/step - loss: 0.4710 - acc: 0.7759 - val_loss: 0.4605 - val_acc: 0.7843\n",
      "Epoch 36/100\n",
      "100/100 [==============================] - 16s 163ms/step - loss: 0.4728 - acc: 0.7688 - val_loss: 0.4398 - val_acc: 0.7983\n",
      "Epoch 37/100\n",
      "100/100 [==============================] - 16s 162ms/step - loss: 0.4771 - acc: 0.7769 - val_loss: 0.5259 - val_acc: 0.7335\n",
      "Epoch 38/100\n",
      "100/100 [==============================] - 16s 161ms/step - loss: 0.4704 - acc: 0.7762 - val_loss: 0.4335 - val_acc: 0.8003\n",
      "Epoch 39/100\n",
      "100/100 [==============================] - 16s 162ms/step - loss: 0.4587 - acc: 0.7791 - val_loss: 0.4707 - val_acc: 0.7779\n",
      "Epoch 40/100\n",
      "100/100 [==============================] - 16s 162ms/step - loss: 0.4572 - acc: 0.7778 - val_loss: 0.4822 - val_acc: 0.7809\n",
      "Epoch 41/100\n",
      "100/100 [==============================] - 16s 161ms/step - loss: 0.4600 - acc: 0.7834 - val_loss: 0.4486 - val_acc: 0.7867\n",
      "Epoch 42/100\n",
      "100/100 [==============================] - 16s 162ms/step - loss: 0.4508 - acc: 0.7912 - val_loss: 0.4652 - val_acc: 0.7709\n",
      "Epoch 43/100\n",
      "100/100 [==============================] - 16s 161ms/step - loss: 0.4438 - acc: 0.7906 - val_loss: 0.4447 - val_acc: 0.7945\n",
      "Epoch 44/100\n",
      "100/100 [==============================] - 16s 162ms/step - loss: 0.4624 - acc: 0.7825 - val_loss: 0.4615 - val_acc: 0.7735\n",
      "Epoch 45/100\n",
      "100/100 [==============================] - 16s 161ms/step - loss: 0.4574 - acc: 0.7866 - val_loss: 0.4686 - val_acc: 0.7874\n",
      "Epoch 46/100\n",
      "100/100 [==============================] - 16s 162ms/step - loss: 0.4408 - acc: 0.7913 - val_loss: 0.4296 - val_acc: 0.8084\n",
      "Epoch 47/100\n",
      "100/100 [==============================] - 16s 162ms/step - loss: 0.4497 - acc: 0.7953 - val_loss: 0.4307 - val_acc: 0.8073\n",
      "Epoch 48/100\n",
      "100/100 [==============================] - 16s 164ms/step - loss: 0.4390 - acc: 0.7950 - val_loss: 0.4397 - val_acc: 0.7977\n",
      "Epoch 49/100\n",
      "100/100 [==============================] - 16s 162ms/step - loss: 0.4510 - acc: 0.7887 - val_loss: 0.4746 - val_acc: 0.7754\n",
      "Epoch 50/100\n",
      "100/100 [==============================] - 16s 161ms/step - loss: 0.4394 - acc: 0.7978 - val_loss: 0.4491 - val_acc: 0.7932\n",
      "Epoch 51/100\n",
      "100/100 [==============================] - 16s 162ms/step - loss: 0.4350 - acc: 0.7931 - val_loss: 0.4259 - val_acc: 0.8071\n",
      "Epoch 52/100\n",
      "100/100 [==============================] - 16s 162ms/step - loss: 0.4331 - acc: 0.8012 - val_loss: 0.4385 - val_acc: 0.7835\n",
      "Epoch 53/100\n",
      "100/100 [==============================] - 16s 161ms/step - loss: 0.4370 - acc: 0.8003 - val_loss: 0.4488 - val_acc: 0.7881\n",
      "Epoch 54/100\n",
      "100/100 [==============================] - 16s 162ms/step - loss: 0.4389 - acc: 0.7938 - val_loss: 0.4296 - val_acc: 0.8041\n",
      "Epoch 55/100\n",
      "100/100 [==============================] - 16s 161ms/step - loss: 0.4312 - acc: 0.7991 - val_loss: 0.4381 - val_acc: 0.8008\n",
      "Epoch 56/100\n",
      "100/100 [==============================] - 16s 161ms/step - loss: 0.4262 - acc: 0.7997 - val_loss: 0.4422 - val_acc: 0.7964\n",
      "Epoch 57/100\n",
      "100/100 [==============================] - 16s 162ms/step - loss: 0.4291 - acc: 0.7963 - val_loss: 0.4894 - val_acc: 0.7880\n",
      "Epoch 58/100\n",
      "100/100 [==============================] - 16s 161ms/step - loss: 0.4248 - acc: 0.8044 - val_loss: 0.5162 - val_acc: 0.7747\n",
      "Epoch 59/100\n",
      "100/100 [==============================] - 16s 162ms/step - loss: 0.4150 - acc: 0.8084 - val_loss: 0.4377 - val_acc: 0.7957\n",
      "Epoch 60/100\n"
     ]
    },
    {
     "name": "stdout",
     "output_type": "stream",
     "text": [
      "100/100 [==============================] - 16s 160ms/step - loss: 0.4259 - acc: 0.8025 - val_loss: 0.4604 - val_acc: 0.8033\n",
      "Epoch 61/100\n",
      "100/100 [==============================] - 16s 161ms/step - loss: 0.4186 - acc: 0.8103 - val_loss: 0.4307 - val_acc: 0.7919\n",
      "Epoch 62/100\n",
      "100/100 [==============================] - 16s 162ms/step - loss: 0.4185 - acc: 0.8100 - val_loss: 0.5830 - val_acc: 0.7221\n",
      "Epoch 63/100\n",
      "100/100 [==============================] - 16s 162ms/step - loss: 0.4087 - acc: 0.8088 - val_loss: 0.4119 - val_acc: 0.8015\n",
      "Epoch 64/100\n",
      "100/100 [==============================] - 16s 163ms/step - loss: 0.4060 - acc: 0.8159 - val_loss: 0.4619 - val_acc: 0.8022\n",
      "Epoch 65/100\n",
      "100/100 [==============================] - 16s 162ms/step - loss: 0.4125 - acc: 0.8059 - val_loss: 0.4380 - val_acc: 0.8033\n",
      "Epoch 66/100\n",
      "100/100 [==============================] - 16s 164ms/step - loss: 0.3990 - acc: 0.8203 - val_loss: 0.4176 - val_acc: 0.8228\n",
      "Epoch 67/100\n",
      "100/100 [==============================] - 16s 163ms/step - loss: 0.4100 - acc: 0.8122 - val_loss: 0.4270 - val_acc: 0.8058\n",
      "Epoch 68/100\n",
      "100/100 [==============================] - 16s 164ms/step - loss: 0.4086 - acc: 0.8119 - val_loss: 0.5489 - val_acc: 0.7506\n",
      "Epoch 69/100\n",
      "100/100 [==============================] - 16s 163ms/step - loss: 0.3930 - acc: 0.8225 - val_loss: 0.4740 - val_acc: 0.7976\n",
      "Epoch 70/100\n",
      "100/100 [==============================] - 17s 168ms/step - loss: 0.3917 - acc: 0.8144 - val_loss: 0.3813 - val_acc: 0.8376\n",
      "Epoch 71/100\n",
      "100/100 [==============================] - 17s 165ms/step - loss: 0.3926 - acc: 0.8175 - val_loss: 0.4455 - val_acc: 0.8160\n",
      "Epoch 72/100\n",
      "100/100 [==============================] - 17s 169ms/step - loss: 0.3841 - acc: 0.8297 - val_loss: 0.4503 - val_acc: 0.7867\n",
      "Epoch 73/100\n",
      "100/100 [==============================] - 17s 168ms/step - loss: 0.3928 - acc: 0.8237 - val_loss: 0.4529 - val_acc: 0.7796\n",
      "Epoch 74/100\n",
      "100/100 [==============================] - 16s 162ms/step - loss: 0.3803 - acc: 0.8288 - val_loss: 0.4222 - val_acc: 0.8135\n",
      "Epoch 75/100\n",
      "100/100 [==============================] - 16s 161ms/step - loss: 0.3892 - acc: 0.8275 - val_loss: 0.4128 - val_acc: 0.8164\n",
      "Epoch 76/100\n",
      "100/100 [==============================] - 16s 161ms/step - loss: 0.3967 - acc: 0.8225 - val_loss: 0.4779 - val_acc: 0.7944\n",
      "Epoch 77/100\n",
      "100/100 [==============================] - 16s 161ms/step - loss: 0.3902 - acc: 0.8225 - val_loss: 0.4192 - val_acc: 0.8119\n",
      "Epoch 78/100\n",
      "100/100 [==============================] - 16s 161ms/step - loss: 0.3897 - acc: 0.8222 - val_loss: 0.4272 - val_acc: 0.7989\n",
      "Epoch 79/100\n",
      "100/100 [==============================] - 16s 160ms/step - loss: 0.3788 - acc: 0.8313 - val_loss: 0.4241 - val_acc: 0.8138\n",
      "Epoch 80/100\n",
      "100/100 [==============================] - 16s 161ms/step - loss: 0.3749 - acc: 0.8253 - val_loss: 0.4176 - val_acc: 0.8196\n",
      "Epoch 81/100\n",
      "100/100 [==============================] - 16s 161ms/step - loss: 0.3849 - acc: 0.8247 - val_loss: 0.4439 - val_acc: 0.7976\n",
      "Epoch 82/100\n",
      "100/100 [==============================] - 16s 160ms/step - loss: 0.3692 - acc: 0.8319 - val_loss: 0.4153 - val_acc: 0.8183\n",
      "Epoch 83/100\n",
      "100/100 [==============================] - 16s 162ms/step - loss: 0.3722 - acc: 0.8394 - val_loss: 0.4454 - val_acc: 0.8077\n",
      "Epoch 84/100\n",
      "100/100 [==============================] - 16s 161ms/step - loss: 0.3717 - acc: 0.8347 - val_loss: 0.4075 - val_acc: 0.8222\n",
      "Epoch 85/100\n",
      "100/100 [==============================] - 16s 161ms/step - loss: 0.3538 - acc: 0.8453 - val_loss: 0.4033 - val_acc: 0.8249\n",
      "Epoch 86/100\n",
      "100/100 [==============================] - 16s 161ms/step - loss: 0.3587 - acc: 0.8425 - val_loss: 0.5088 - val_acc: 0.7861\n",
      "Epoch 87/100\n",
      "100/100 [==============================] - 16s 161ms/step - loss: 0.3803 - acc: 0.8356 - val_loss: 0.4162 - val_acc: 0.8071\n",
      "Epoch 88/100\n",
      "100/100 [==============================] - 16s 161ms/step - loss: 0.3546 - acc: 0.8416 - val_loss: 0.4868 - val_acc: 0.7880\n",
      "Epoch 89/100\n",
      "100/100 [==============================] - 16s 160ms/step - loss: 0.3449 - acc: 0.8478 - val_loss: 0.4308 - val_acc: 0.8241\n",
      "Epoch 90/100\n",
      "100/100 [==============================] - 16s 162ms/step - loss: 0.3518 - acc: 0.8450 - val_loss: 0.3999 - val_acc: 0.8268\n",
      "Epoch 91/100\n",
      "100/100 [==============================] - 16s 161ms/step - loss: 0.3481 - acc: 0.8453 - val_loss: 0.4825 - val_acc: 0.7932\n",
      "Epoch 92/100\n",
      "100/100 [==============================] - 16s 163ms/step - loss: 0.3500 - acc: 0.8462 - val_loss: 0.4192 - val_acc: 0.8154\n",
      "Epoch 93/100\n",
      "100/100 [==============================] - 17s 165ms/step - loss: 0.3464 - acc: 0.8425 - val_loss: 0.4585 - val_acc: 0.8093\n",
      "Epoch 94/100\n",
      "100/100 [==============================] - 16s 162ms/step - loss: 0.3392 - acc: 0.8531 - val_loss: 0.4133 - val_acc: 0.8274\n",
      "Epoch 95/100\n",
      "100/100 [==============================] - 16s 163ms/step - loss: 0.3406 - acc: 0.8559 - val_loss: 0.4109 - val_acc: 0.8215\n",
      "Epoch 96/100\n",
      "100/100 [==============================] - 16s 161ms/step - loss: 0.3446 - acc: 0.8512 - val_loss: 0.4327 - val_acc: 0.8022\n",
      "Epoch 97/100\n",
      "100/100 [==============================] - 16s 162ms/step - loss: 0.3479 - acc: 0.8434 - val_loss: 0.4374 - val_acc: 0.8039\n",
      "Epoch 98/100\n",
      "100/100 [==============================] - 16s 161ms/step - loss: 0.3397 - acc: 0.8519 - val_loss: 0.3769 - val_acc: 0.8415\n",
      "Epoch 99/100\n",
      "100/100 [==============================] - 16s 162ms/step - loss: 0.3348 - acc: 0.8553 - val_loss: 0.3747 - val_acc: 0.8363\n",
      "Epoch 100/100\n",
      "100/100 [==============================] - 16s 163ms/step - loss: 0.3373 - acc: 0.8556 - val_loss: 0.3961 - val_acc: 0.8383\n"
     ]
    }
   ],
   "source": [
    "train_datagen=ImageDataGenerator(\n",
    "    rescale=1./255,\n",
    "    rotation_range=40,\n",
    "    width_shift_range=0.2,\n",
    "    height_shift_range=0.2,\n",
    "    shear_range=0.2,\n",
    "    zoom_range=0.2,\n",
    "    horizontal_flip=True)\n",
    "test_datagen=ImageDataGenerator(rescale=1./255)\n",
    "train_genertor=train_datagen.flow_from_directory(\n",
    "    train_dir,\n",
    "    target_size=(150,150),\n",
    "    batch_size=32,\n",
    "    class_mode='binary')\n",
    "val_genertor=test_datagen.flow_from_directory(\n",
    "    val_dir,\n",
    "    target_size=(150,150),\n",
    "    batch_size=32,\n",
    "    class_mode='binary')\n",
    "history=model.fit_generator(\n",
    "    train_genertor,\n",
    "    epochs=100,\n",
    "    steps_per_epoch=100,\n",
    "    validation_data=val_genertor,\n",
    "    validation_steps=50)"
   ]
  },
  {
   "cell_type": "code",
   "execution_count": 34,
   "metadata": {},
   "outputs": [],
   "source": [
    "model.save(r'model\\cats_and_dogs_small_2.h5')"
   ]
  },
  {
   "cell_type": "code",
   "execution_count": 35,
   "metadata": {},
   "outputs": [
    {
     "name": "stdout",
     "output_type": "stream",
     "text": [
      "Downloading data from https://github.com/fchollet/deep-learning-models/releases/download/v0.1/vgg16_weights_tf_dim_ordering_tf_kernels_notop.h5\n",
      "58892288/58889256 [==============================] - 62s 1us/step\n",
      "_________________________________________________________________\n",
      "Layer (type)                 Output Shape              Param #   \n",
      "=================================================================\n",
      "input_1 (InputLayer)         (None, 150, 150, 3)       0         \n",
      "_________________________________________________________________\n",
      "block1_conv1 (Conv2D)        (None, 150, 150, 64)      1792      \n",
      "_________________________________________________________________\n",
      "block1_conv2 (Conv2D)        (None, 150, 150, 64)      36928     \n",
      "_________________________________________________________________\n",
      "block1_pool (MaxPooling2D)   (None, 75, 75, 64)        0         \n",
      "_________________________________________________________________\n",
      "block2_conv1 (Conv2D)        (None, 75, 75, 128)       73856     \n",
      "_________________________________________________________________\n",
      "block2_conv2 (Conv2D)        (None, 75, 75, 128)       147584    \n",
      "_________________________________________________________________\n",
      "block2_pool (MaxPooling2D)   (None, 37, 37, 128)       0         \n",
      "_________________________________________________________________\n",
      "block3_conv1 (Conv2D)        (None, 37, 37, 256)       295168    \n",
      "_________________________________________________________________\n",
      "block3_conv2 (Conv2D)        (None, 37, 37, 256)       590080    \n",
      "_________________________________________________________________\n",
      "block3_conv3 (Conv2D)        (None, 37, 37, 256)       590080    \n",
      "_________________________________________________________________\n",
      "block3_pool (MaxPooling2D)   (None, 18, 18, 256)       0         \n",
      "_________________________________________________________________\n",
      "block4_conv1 (Conv2D)        (None, 18, 18, 512)       1180160   \n",
      "_________________________________________________________________\n",
      "block4_conv2 (Conv2D)        (None, 18, 18, 512)       2359808   \n",
      "_________________________________________________________________\n",
      "block4_conv3 (Conv2D)        (None, 18, 18, 512)       2359808   \n",
      "_________________________________________________________________\n",
      "block4_pool (MaxPooling2D)   (None, 9, 9, 512)         0         \n",
      "_________________________________________________________________\n",
      "block5_conv1 (Conv2D)        (None, 9, 9, 512)         2359808   \n",
      "_________________________________________________________________\n",
      "block5_conv2 (Conv2D)        (None, 9, 9, 512)         2359808   \n",
      "_________________________________________________________________\n",
      "block5_conv3 (Conv2D)        (None, 9, 9, 512)         2359808   \n",
      "_________________________________________________________________\n",
      "block5_pool (MaxPooling2D)   (None, 4, 4, 512)         0         \n",
      "=================================================================\n",
      "Total params: 14,714,688\n",
      "Trainable params: 14,714,688\n",
      "Non-trainable params: 0\n",
      "_________________________________________________________________\n"
     ]
    }
   ],
   "source": [
    "from keras.applications import VGG16\n",
    "conv_base=VGG16(\n",
    "    weights='imagenet',\n",
    "    include_top=False,\n",
    "    input_shape=(150,150,3))\n",
    "conv_base.summary()"
   ]
  },
  {
   "cell_type": "code",
   "execution_count": 37,
   "metadata": {},
   "outputs": [
    {
     "data": {
      "image/png": "[encoded data removed]",
      "text/plain": [
       "<Figure size 432x288 with 1 Axes>"
      ]
     },
     "metadata": {
      "needs_background": "light"
     },
     "output_type": "display_data"
    },
    {
     "data": {
      "image/png": "[encoded data removed]",
      "text/plain": [
       "<Figure size 432x288 with 1 Axes>"
      ]
     },
     "metadata": {
      "needs_background": "light"
     },
     "output_type": "display_data"
    }
   ],
   "source": [
    "plt_loss_acc(history)"
   ]
  },
  {
   "cell_type": "code",
   "execution_count": 51,
   "metadata": {},
   "outputs": [],
   "source": [
    "import os\n",
    "import numpy as np\n",
    "from keras.preprocessing.image import ImageDataGenerator\n",
    "\n",
    "datagen=ImageDataGenerator(rescale=1./255)\n",
    "batch_size=20\n",
    "\n",
    "def extract_features(directory,sample_count):\n",
    "    features=np.zeros(shape=(sample_count,4,4,512))\n",
    "    labels=np.zeros(shape=(sample_count))\n",
    "    generator=datagen.flow_from_directory(\n",
    "        directory,\n",
    "        batch_size=batch_size,\n",
    "        target_size=(150,150),\n",
    "        class_mode='binary')\n",
    "    i=0\n",
    "    for input_batch,label_batch in generator:\n",
    "        feature_batch=conv_base.predict(input_batch)\n",
    "        features[i*batch_size:(i+1)*batch_size]=feature_batch\n",
    "        labels[i*batch_size:(i+1)*batch_size]=label_batch\n",
    "        i+=1\n",
    "        if i*batch_size>=sample_count:\n",
    "            break\n",
    "    return features,labels"
   ]
  },
  {
   "cell_type": "code",
   "execution_count": 57,
   "metadata": {},
   "outputs": [
    {
     "name": "stdout",
     "output_type": "stream",
     "text": [
      "Found 2000 images belonging to 2 classes.\n",
      "Found 1000 images belonging to 2 classes.\n",
      "Found 1000 images belonging to 2 classes.\n"
     ]
    }
   ],
   "source": [
    "train_feature,train_labels=extract_features(train_dir,2000)\n",
    "val_feature,val_labels=extract_features(val_dir,1000)\n",
    "test_feature,test_labels=extract_features(test_dir,1000)"
   ]
  },
  {
   "cell_type": "code",
   "execution_count": 58,
   "metadata": {},
   "outputs": [],
   "source": [
    "train_feature=np.reshape(train_feature,(2000,4*4*512))\n",
    "val_feature=np.reshape(val_feature,(1000,4*4*512))\n",
    "test_feature=np.reshape(test_feature,(1000,4*4*512))"
   ]
  },
  {
   "cell_type": "code",
   "execution_count": 60,
   "metadata": {},
   "outputs": [
    {
     "name": "stdout",
     "output_type": "stream",
     "text": [
      "Train on 2000 samples, validate on 1000 samples\n",
      "Epoch 1/30\n",
      "2000/2000 [==============================] - 1s 694us/step - loss: 0.5854 - acc: 0.6870 - val_loss: 0.4294 - val_acc: 0.8440\n",
      "Epoch 2/30\n",
      "2000/2000 [==============================] - 1s 485us/step - loss: 0.4194 - acc: 0.8155 - val_loss: 0.3532 - val_acc: 0.8650\n",
      "Epoch 3/30\n",
      "2000/2000 [==============================] - 1s 483us/step - loss: 0.3578 - acc: 0.8510 - val_loss: 0.3129 - val_acc: 0.8790\n",
      "Epoch 4/30\n",
      "2000/2000 [==============================] - 1s 480us/step - loss: 0.3117 - acc: 0.8715 - val_loss: 0.2998 - val_acc: 0.8820\n",
      "Epoch 5/30\n",
      "2000/2000 [==============================] - 1s 485us/step - loss: 0.2804 - acc: 0.8870 - val_loss: 0.2824 - val_acc: 0.8940\n",
      "Epoch 6/30\n",
      "2000/2000 [==============================] - 1s 493us/step - loss: 0.2611 - acc: 0.9040 - val_loss: 0.2642 - val_acc: 0.8980\n",
      "Epoch 7/30\n",
      "2000/2000 [==============================] - 1s 488us/step - loss: 0.2454 - acc: 0.9050 - val_loss: 0.2635 - val_acc: 0.8960\n",
      "Epoch 8/30\n",
      "2000/2000 [==============================] - 1s 480us/step - loss: 0.2257 - acc: 0.9130 - val_loss: 0.2512 - val_acc: 0.9020\n",
      "Epoch 9/30\n",
      "2000/2000 [==============================] - 1s 480us/step - loss: 0.2178 - acc: 0.9190 - val_loss: 0.2452 - val_acc: 0.9050\n",
      "Epoch 10/30\n",
      "2000/2000 [==============================] - 1s 483us/step - loss: 0.1991 - acc: 0.9275 - val_loss: 0.2428 - val_acc: 0.9050\n",
      "Epoch 11/30\n",
      "2000/2000 [==============================] - 1s 491us/step - loss: 0.1920 - acc: 0.9225 - val_loss: 0.2601 - val_acc: 0.8910\n",
      "Epoch 12/30\n",
      "2000/2000 [==============================] - 1s 471us/step - loss: 0.1770 - acc: 0.9350 - val_loss: 0.2389 - val_acc: 0.9040\n",
      "Epoch 13/30\n",
      "2000/2000 [==============================] - 1s 478us/step - loss: 0.1724 - acc: 0.9395 - val_loss: 0.2351 - val_acc: 0.9060\n",
      "Epoch 14/30\n",
      "2000/2000 [==============================] - 1s 479us/step - loss: 0.1643 - acc: 0.9410 - val_loss: 0.2330 - val_acc: 0.9090\n",
      "Epoch 15/30\n",
      "2000/2000 [==============================] - 1s 488us/step - loss: 0.1570 - acc: 0.9460 - val_loss: 0.2319 - val_acc: 0.9080\n",
      "Epoch 16/30\n",
      "2000/2000 [==============================] - 1s 488us/step - loss: 0.1493 - acc: 0.9490 - val_loss: 0.2360 - val_acc: 0.9080\n",
      "Epoch 17/30\n",
      "2000/2000 [==============================] - 1s 484us/step - loss: 0.1446 - acc: 0.9475 - val_loss: 0.2304 - val_acc: 0.9080\n",
      "Epoch 18/30\n",
      "2000/2000 [==============================] - 1s 469us/step - loss: 0.1415 - acc: 0.9485 - val_loss: 0.2304 - val_acc: 0.9070\n",
      "Epoch 19/30\n",
      "2000/2000 [==============================] - 1s 488us/step - loss: 0.1320 - acc: 0.9535 - val_loss: 0.2370 - val_acc: 0.9050\n",
      "Epoch 20/30\n",
      "2000/2000 [==============================] - 1s 482us/step - loss: 0.1296 - acc: 0.9555 - val_loss: 0.2339 - val_acc: 0.9080\n",
      "Epoch 21/30\n",
      "2000/2000 [==============================] - 1s 469us/step - loss: 0.1215 - acc: 0.9620 - val_loss: 0.2296 - val_acc: 0.9050\n",
      "Epoch 22/30\n",
      "2000/2000 [==============================] - 1s 482us/step - loss: 0.1179 - acc: 0.9595 - val_loss: 0.2343 - val_acc: 0.9090\n",
      "Epoch 23/30\n",
      "2000/2000 [==============================] - 1s 481us/step - loss: 0.1142 - acc: 0.9600 - val_loss: 0.2369 - val_acc: 0.9060\n",
      "Epoch 24/30\n",
      "2000/2000 [==============================] - 1s 479us/step - loss: 0.1093 - acc: 0.9655 - val_loss: 0.2322 - val_acc: 0.9050\n",
      "Epoch 25/30\n",
      "2000/2000 [==============================] - 1s 479us/step - loss: 0.1041 - acc: 0.9650 - val_loss: 0.2381 - val_acc: 0.9070\n",
      "Epoch 26/30\n",
      "2000/2000 [==============================] - 1s 484us/step - loss: 0.1016 - acc: 0.9645 - val_loss: 0.2468 - val_acc: 0.9020\n",
      "Epoch 27/30\n",
      "2000/2000 [==============================] - 1s 472us/step - loss: 0.0943 - acc: 0.9675 - val_loss: 0.2306 - val_acc: 0.9050\n",
      "Epoch 28/30\n",
      "2000/2000 [==============================] - 1s 483us/step - loss: 0.0941 - acc: 0.9710 - val_loss: 0.2405 - val_acc: 0.9070\n",
      "Epoch 29/30\n",
      "2000/2000 [==============================] - 1s 480us/step - loss: 0.0880 - acc: 0.9730 - val_loss: 0.2352 - val_acc: 0.9070\n",
      "Epoch 30/30\n",
      "2000/2000 [==============================] - 1s 481us/step - loss: 0.0878 - acc: 0.9720 - val_loss: 0.2423 - val_acc: 0.9070\n"
     ]
    }
   ],
   "source": [
    "model=models.Sequential()\n",
    "model.add(layers.Dense(256,activation='relu',input_dim=4*4*512))\n",
    "model.add(layers.Dropout(0.5))\n",
    "model.add(layers.Dense(1,activation='sigmoid'))\n",
    "\n",
    "model.compile(optimizer=optimizers.RMSprop(lr=2e-5),\n",
    "             loss='binary_crossentropy',\n",
    "             metrics=['acc'])\n",
    "history=model.fit(\n",
    "    train_feature,train_labels,\n",
    "    epochs=30,batch_size=20,\n",
    "    validation_data=(val_feature,val_labels))"
   ]
  },
  {
   "cell_type": "code",
   "execution_count": 61,
   "metadata": {},
   "outputs": [
    {
     "data": {
      "image/png": "[encoded data removed]",
      "text/plain": [
       "<Figure size 432x288 with 1 Axes>"
      ]
     },
     "metadata": {
      "needs_background": "light"
     },
     "output_type": "display_data"
    },
    {
     "data": {
      "image/png": "[encoded data removed]",
      "text/plain": [
       "<Figure size 432x288 with 1 Axes>"
      ]
     },
     "metadata": {
      "needs_background": "light"
     },
     "output_type": "display_data"
    }
   ],
   "source": [
    "plt_loss_acc(history)"
   ]
  },
  {
   "cell_type": "code",
   "execution_count": 81,
   "metadata": {},
   "outputs": [],
   "source": [
    "model=models.Sequential()\n",
    "model.add(conv_base)\n",
    "model.add(layers.Flatten())\n",
    "model.add(layers.Dense(256,activation='relu'))\n",
    "model.add(layers.Dense(1,activation='sigmoid'))"
   ]
  },
  {
   "cell_type": "code",
   "execution_count": 82,
   "metadata": {},
   "outputs": [
    {
     "data": {
      "text/plain": [
       "4"
      ]
     },
     "execution_count": 82,
     "metadata": {},
     "output_type": "execute_result"
    }
   ],
   "source": [
    "len(model.trainable_weights)"
   ]
  },
  {
   "cell_type": "code",
   "execution_count": 92,
   "metadata": {},
   "outputs": [],
   "source": [
    "conv_base.trainable=False"
   ]
  },
  {
   "cell_type": "code",
   "execution_count": 93,
   "metadata": {},
   "outputs": [
    {
     "data": {
      "text/plain": [
       "4"
      ]
     },
     "execution_count": 93,
     "metadata": {},
     "output_type": "execute_result"
    }
   ],
   "source": [
    "len(model.trainable_weights)"
   ]
  },
  {
   "cell_type": "code",
   "execution_count": 85,
   "metadata": {},
   "outputs": [
    {
     "name": "stdout",
     "output_type": "stream",
     "text": [
      "Found 2000 images belonging to 2 classes.\n",
      "Found 1000 images belonging to 2 classes.\n"
     ]
    }
   ],
   "source": [
    "from keras.preprocessing.image import ImageDataGenerator\n",
    "from keras import optimizers,losses\n",
    "\n",
    "train_datagen=ImageDataGenerator(\n",
    "    rescale=1./255,\n",
    "    rotation_range=40,\n",
    "    width_shift_range=0.2,\n",
    "    height_shift_range=0.2,\n",
    "    shear_range=0.2,\n",
    "    zoom_range=0.2,\n",
    "    horizontal_flip=True,\n",
    "    fill_mode='nearest')\n",
    "test_datagen=ImageDataGenerator(rescale=1./255)\n",
    "\n",
    "train_generator=train_datagen.flow_from_directory(\n",
    "    train_dir,\n",
    "    target_size=(150,150),\n",
    "    batch_size=20,\n",
    "    class_mode='binary')\n",
    "\n",
    "val_generator=test_datagen.flow_from_directory(\n",
    "    val_dir,\n",
    "    target_size=(150,150),\n",
    "    batch_size=20,\n",
    "    class_mode='binary')\n",
    "\n",
    "model.compile(optimizer=optimizers.RMSprop(lr=2e-5),\n",
    "             loss=losses.binary_crossentropy,\n",
    "             metrics=['acc'])\n"
   ]
  },
  {
   "cell_type": "code",
   "execution_count": null,
   "metadata": {},
   "outputs": [
    {
     "name": "stdout",
     "output_type": "stream",
     "text": [
      "Epoch 1/30\n"
     ]
    }
   ],
   "source": [
    "history=model.fit_generator(\n",
    "        train_generator,\n",
    "        steps_per_epoch=100,\n",
    "        epochs=30,\n",
    "        validation_data=val_generator,\n",
    "        validation_steps=50)"
   ]
  },
  {
   "cell_type": "code",
   "execution_count": 98,
   "metadata": {},
   "outputs": [
    {
     "data": {
      "image/png": "[encoded data removed]",
      "text/plain": [
       "<Figure size 432x288 with 1 Axes>"
      ]
     },
     "metadata": {
      "needs_background": "light"
     },
     "output_type": "display_data"
    },
    {
     "data": {
      "image/png": "[encoded data removed]",
      "text/plain": [
       "<Figure size 432x288 with 1 Axes>"
      ]
     },
     "metadata": {
      "needs_background": "light"
     },
     "output_type": "display_data"
    }
   ],
   "source": [
    "plt_loss_acc(history)"
   ]
  },
  {
   "cell_type": "code",
   "execution_count": 99,
   "metadata": {},
   "outputs": [],
   "source": [
    "model.save('model/cats_and_dogs_small.h5')"
   ]
  },
  {
   "cell_type": "code",
   "execution_count": 101,
   "metadata": {},
   "outputs": [
    {
     "name": "stdout",
     "output_type": "stream",
     "text": [
      "Found 1000 images belonging to 2 classes.\n",
      "0.8949999988079071 0.24809261925518514\n"
     ]
    }
   ],
   "source": [
    "test_generator=test_datagen.flow_from_directory(\n",
    "    test_dir,\n",
    "    target_size=(150,150),\n",
    "    batch_size=20,\n",
    "    class_mode='binary')\n",
    "\n",
    "test_loss,test_acc=model.evaluate_generator(\n",
    "    test_generator,steps=50)\n",
    "print(test_acc,test_loss)"
   ]
  },
  {
   "cell_type": "code",
   "execution_count": 103,
   "metadata": {},
   "outputs": [
    {
     "data": {
      "text/plain": [
       "10"
      ]
     },
     "execution_count": 103,
     "metadata": {},
     "output_type": "execute_result"
    }
   ],
   "source": [
    "conv_base.trainable=True\n",
    "set_trainable=False\n",
    "for layer in conv_base.layers:\n",
    "    if layer.name=='block5_conv1':\n",
    "        set_trainable=True\n",
    "    if set_trainable:\n",
    "        layer.trainable=True\n",
    "    else:\n",
    "        layer.trainable=False\n",
    "len(model.trainable_weights)        "
   ]
  },
  {
   "cell_type": "code",
   "execution_count": 104,
   "metadata": {},
   "outputs": [],
   "source": [
    "model.compile(optimizer=optimizers.RMSprop(lr=1e-5),\n",
    "             loss=losses.binary_crossentropy,\n",
    "             metrics=['acc'])"
   ]
  },
  {
   "cell_type": "code",
   "execution_count": 107,
   "metadata": {},
   "outputs": [
    {
     "name": "stdout",
     "output_type": "stream",
     "text": [
      "Epoch 1/30\n"
     ]
    },
    {
     "ename": "ResourceExhaustedError",
     "evalue": "OOM when allocating tensor with shape[20,64,150,150] and type float on /job:localhost/replica:0/task:0/device:GPU:0 by allocator GPU_0_bfc\n\t [[{{node vgg16_1/block1_conv2/convolution}} = Conv2D[T=DT_FLOAT, data_format=\"NCHW\", dilations=[1, 1, 1, 1], padding=\"SAME\", strides=[1, 1, 1, 1], use_cudnn_on_gpu=true, _device=\"/job:localhost/replica:0/task:0/device:GPU:0\"](vgg16_1/block1_conv1/Relu, block1_conv2/kernel/read)]]\nHint: If you want to see a list of allocated tensors when OOM happens, add report_tensor_allocations_upon_oom to RunOptions for current allocation info.\n\n\t [[{{node metrics_14/acc/Mean_1/_1221}} = _Recv[client_terminated=false, recv_device=\"/job:localhost/replica:0/task:0/device:CPU:0\", send_device=\"/job:localhost/replica:0/task:0/device:GPU:0\", send_device_incarnation=1, tensor_name=\"edge_768_metrics_14/acc/Mean_1\", tensor_type=DT_FLOAT, _device=\"/job:localhost/replica:0/task:0/device:CPU:0\"]()]]\nHint: If you want to see a list of allocated tensors when OOM happens, add report_tensor_allocations_upon_oom to RunOptions for current allocation info.\n",
     "output_type": "error",
     "traceback": [
      "\u001b[1;31m---------------------------------------------------------------------------\u001b[0m",
      "\u001b[1;31mResourceExhaustedError\u001b[0m                    Traceback (most recent call last)",
      "\u001b[1;32m<ipython-input-107-a5eb2236f707>\u001b[0m in \u001b[0;36m<module>\u001b[1;34m\u001b[0m\n\u001b[0;32m      4\u001b[0m         \u001b[0mepochs\u001b[0m\u001b[1;33m=\u001b[0m\u001b[1;36m30\u001b[0m\u001b[1;33m,\u001b[0m\u001b[1;33m\u001b[0m\u001b[0m\n\u001b[0;32m      5\u001b[0m         \u001b[0mvalidation_data\u001b[0m\u001b[1;33m=\u001b[0m\u001b[0mval_generator\u001b[0m\u001b[1;33m,\u001b[0m\u001b[1;33m\u001b[0m\u001b[0m\n\u001b[1;32m----> 6\u001b[1;33m         validation_steps=20)\n\u001b[0m",
      "\u001b[1;32me:\\python\\python35\\lib\\site-packages\\keras\\legacy\\interfaces.py\u001b[0m in \u001b[0;36mwrapper\u001b[1;34m(*args, **kwargs)\u001b[0m\n\u001b[0;32m     89\u001b[0m                 warnings.warn('Update your `' + object_name + '` call to the ' +\n\u001b[0;32m     90\u001b[0m                               'Keras 2 API: ' + signature, stacklevel=2)\n\u001b[1;32m---> 91\u001b[1;33m             \u001b[1;32mreturn\u001b[0m \u001b[0mfunc\u001b[0m\u001b[1;33m(\u001b[0m\u001b[1;33m*\u001b[0m\u001b[0margs\u001b[0m\u001b[1;33m,\u001b[0m \u001b[1;33m**\u001b[0m\u001b[0mkwargs\u001b[0m\u001b[1;33m)\u001b[0m\u001b[1;33m\u001b[0m\u001b[0m\n\u001b[0m\u001b[0;32m     92\u001b[0m         \u001b[0mwrapper\u001b[0m\u001b[1;33m.\u001b[0m\u001b[0m_original_function\u001b[0m \u001b[1;33m=\u001b[0m \u001b[0mfunc\u001b[0m\u001b[1;33m\u001b[0m\u001b[0m\n\u001b[0;32m     93\u001b[0m         \u001b[1;32mreturn\u001b[0m \u001b[0mwrapper\u001b[0m\u001b[1;33m\u001b[0m\u001b[0m\n",
      "\u001b[1;32me:\\python\\python35\\lib\\site-packages\\keras\\engine\\training.py\u001b[0m in \u001b[0;36mfit_generator\u001b[1;34m(self, generator, steps_per_epoch, epochs, verbose, callbacks, validation_data, validation_steps, class_weight, max_queue_size, workers, use_multiprocessing, shuffle, initial_epoch)\u001b[0m\n\u001b[0;32m   1416\u001b[0m             \u001b[0muse_multiprocessing\u001b[0m\u001b[1;33m=\u001b[0m\u001b[0muse_multiprocessing\u001b[0m\u001b[1;33m,\u001b[0m\u001b[1;33m\u001b[0m\u001b[0m\n\u001b[0;32m   1417\u001b[0m             \u001b[0mshuffle\u001b[0m\u001b[1;33m=\u001b[0m\u001b[0mshuffle\u001b[0m\u001b[1;33m,\u001b[0m\u001b[1;33m\u001b[0m\u001b[0m\n\u001b[1;32m-> 1418\u001b[1;33m             initial_epoch=initial_epoch)\n\u001b[0m\u001b[0;32m   1419\u001b[0m \u001b[1;33m\u001b[0m\u001b[0m\n\u001b[0;32m   1420\u001b[0m     \u001b[1;33m@\u001b[0m\u001b[0minterfaces\u001b[0m\u001b[1;33m.\u001b[0m\u001b[0mlegacy_generator_methods_support\u001b[0m\u001b[1;33m\u001b[0m\u001b[0m\n",
      "\u001b[1;32me:\\python\\python35\\lib\\site-packages\\keras\\engine\\training_generator.py\u001b[0m in \u001b[0;36mfit_generator\u001b[1;34m(model, generator, steps_per_epoch, epochs, verbose, callbacks, validation_data, validation_steps, class_weight, max_queue_size, workers, use_multiprocessing, shuffle, initial_epoch)\u001b[0m\n\u001b[0;32m    215\u001b[0m                 outs = model.train_on_batch(x, y,\n\u001b[0;32m    216\u001b[0m                                             \u001b[0msample_weight\u001b[0m\u001b[1;33m=\u001b[0m\u001b[0msample_weight\u001b[0m\u001b[1;33m,\u001b[0m\u001b[1;33m\u001b[0m\u001b[0m\n\u001b[1;32m--> 217\u001b[1;33m                                             class_weight=class_weight)\n\u001b[0m\u001b[0;32m    218\u001b[0m \u001b[1;33m\u001b[0m\u001b[0m\n\u001b[0;32m    219\u001b[0m                 \u001b[0mouts\u001b[0m \u001b[1;33m=\u001b[0m \u001b[0mto_list\u001b[0m\u001b[1;33m(\u001b[0m\u001b[0mouts\u001b[0m\u001b[1;33m)\u001b[0m\u001b[1;33m\u001b[0m\u001b[0m\n",
      "\u001b[1;32me:\\python\\python35\\lib\\site-packages\\keras\\engine\\training.py\u001b[0m in \u001b[0;36mtrain_on_batch\u001b[1;34m(self, x, y, sample_weight, class_weight)\u001b[0m\n\u001b[0;32m   1215\u001b[0m             \u001b[0mins\u001b[0m \u001b[1;33m=\u001b[0m \u001b[0mx\u001b[0m \u001b[1;33m+\u001b[0m \u001b[0my\u001b[0m \u001b[1;33m+\u001b[0m \u001b[0msample_weights\u001b[0m\u001b[1;33m\u001b[0m\u001b[0m\n\u001b[0;32m   1216\u001b[0m         \u001b[0mself\u001b[0m\u001b[1;33m.\u001b[0m\u001b[0m_make_train_function\u001b[0m\u001b[1;33m(\u001b[0m\u001b[1;33m)\u001b[0m\u001b[1;33m\u001b[0m\u001b[0m\n\u001b[1;32m-> 1217\u001b[1;33m         \u001b[0moutputs\u001b[0m \u001b[1;33m=\u001b[0m \u001b[0mself\u001b[0m\u001b[1;33m.\u001b[0m\u001b[0mtrain_function\u001b[0m\u001b[1;33m(\u001b[0m\u001b[0mins\u001b[0m\u001b[1;33m)\u001b[0m\u001b[1;33m\u001b[0m\u001b[0m\n\u001b[0m\u001b[0;32m   1218\u001b[0m         \u001b[1;32mreturn\u001b[0m \u001b[0munpack_singleton\u001b[0m\u001b[1;33m(\u001b[0m\u001b[0moutputs\u001b[0m\u001b[1;33m)\u001b[0m\u001b[1;33m\u001b[0m\u001b[0m\n\u001b[0;32m   1219\u001b[0m \u001b[1;33m\u001b[0m\u001b[0m\n",
      "\u001b[1;32me:\\python\\python35\\lib\\site-packages\\keras\\backend\\tensorflow_backend.py\u001b[0m in \u001b[0;36m__call__\u001b[1;34m(self, inputs)\u001b[0m\n\u001b[0;32m   2715\u001b[0m                 \u001b[1;32mreturn\u001b[0m \u001b[0mself\u001b[0m\u001b[1;33m.\u001b[0m\u001b[0m_legacy_call\u001b[0m\u001b[1;33m(\u001b[0m\u001b[0minputs\u001b[0m\u001b[1;33m)\u001b[0m\u001b[1;33m\u001b[0m\u001b[0m\n\u001b[0;32m   2716\u001b[0m \u001b[1;33m\u001b[0m\u001b[0m\n\u001b[1;32m-> 2717\u001b[1;33m             \u001b[1;32mreturn\u001b[0m \u001b[0mself\u001b[0m\u001b[1;33m.\u001b[0m\u001b[0m_call\u001b[0m\u001b[1;33m(\u001b[0m\u001b[0minputs\u001b[0m\u001b[1;33m)\u001b[0m\u001b[1;33m\u001b[0m\u001b[0m\n\u001b[0m\u001b[0;32m   2718\u001b[0m         \u001b[1;32melse\u001b[0m\u001b[1;33m:\u001b[0m\u001b[1;33m\u001b[0m\u001b[0m\n\u001b[0;32m   2719\u001b[0m             \u001b[1;32mif\u001b[0m \u001b[0mpy_any\u001b[0m\u001b[1;33m(\u001b[0m\u001b[0mis_tensor\u001b[0m\u001b[1;33m(\u001b[0m\u001b[0mx\u001b[0m\u001b[1;33m)\u001b[0m \u001b[1;32mfor\u001b[0m \u001b[0mx\u001b[0m \u001b[1;32min\u001b[0m \u001b[0minputs\u001b[0m\u001b[1;33m)\u001b[0m\u001b[1;33m:\u001b[0m\u001b[1;33m\u001b[0m\u001b[0m\n",
      "\u001b[1;32me:\\python\\python35\\lib\\site-packages\\keras\\backend\\tensorflow_backend.py\u001b[0m in \u001b[0;36m_call\u001b[1;34m(self, inputs)\u001b[0m\n\u001b[0;32m   2675\u001b[0m             \u001b[0mfetched\u001b[0m \u001b[1;33m=\u001b[0m \u001b[0mself\u001b[0m\u001b[1;33m.\u001b[0m\u001b[0m_callable_fn\u001b[0m\u001b[1;33m(\u001b[0m\u001b[1;33m*\u001b[0m\u001b[0marray_vals\u001b[0m\u001b[1;33m,\u001b[0m \u001b[0mrun_metadata\u001b[0m\u001b[1;33m=\u001b[0m\u001b[0mself\u001b[0m\u001b[1;33m.\u001b[0m\u001b[0mrun_metadata\u001b[0m\u001b[1;33m)\u001b[0m\u001b[1;33m\u001b[0m\u001b[0m\n\u001b[0;32m   2676\u001b[0m         \u001b[1;32melse\u001b[0m\u001b[1;33m:\u001b[0m\u001b[1;33m\u001b[0m\u001b[0m\n\u001b[1;32m-> 2677\u001b[1;33m             \u001b[0mfetched\u001b[0m \u001b[1;33m=\u001b[0m \u001b[0mself\u001b[0m\u001b[1;33m.\u001b[0m\u001b[0m_callable_fn\u001b[0m\u001b[1;33m(\u001b[0m\u001b[1;33m*\u001b[0m\u001b[0marray_vals\u001b[0m\u001b[1;33m)\u001b[0m\u001b[1;33m\u001b[0m\u001b[0m\n\u001b[0m\u001b[0;32m   2678\u001b[0m         \u001b[1;32mreturn\u001b[0m \u001b[0mfetched\u001b[0m\u001b[1;33m[\u001b[0m\u001b[1;33m:\u001b[0m\u001b[0mlen\u001b[0m\u001b[1;33m(\u001b[0m\u001b[0mself\u001b[0m\u001b[1;33m.\u001b[0m\u001b[0moutputs\u001b[0m\u001b[1;33m)\u001b[0m\u001b[1;33m]\u001b[0m\u001b[1;33m\u001b[0m\u001b[0m\n\u001b[0;32m   2679\u001b[0m \u001b[1;33m\u001b[0m\u001b[0m\n",
      "\u001b[1;32me:\\python\\python35\\lib\\site-packages\\tensorflow\\python\\client\\session.py\u001b[0m in \u001b[0;36m__call__\u001b[1;34m(self, *args, **kwargs)\u001b[0m\n\u001b[0;32m   1437\u001b[0m           ret = tf_session.TF_SessionRunCallable(\n\u001b[0;32m   1438\u001b[0m               \u001b[0mself\u001b[0m\u001b[1;33m.\u001b[0m\u001b[0m_session\u001b[0m\u001b[1;33m.\u001b[0m\u001b[0m_session\u001b[0m\u001b[1;33m,\u001b[0m \u001b[0mself\u001b[0m\u001b[1;33m.\u001b[0m\u001b[0m_handle\u001b[0m\u001b[1;33m,\u001b[0m \u001b[0margs\u001b[0m\u001b[1;33m,\u001b[0m \u001b[0mstatus\u001b[0m\u001b[1;33m,\u001b[0m\u001b[1;33m\u001b[0m\u001b[0m\n\u001b[1;32m-> 1439\u001b[1;33m               run_metadata_ptr)\n\u001b[0m\u001b[0;32m   1440\u001b[0m         \u001b[1;32mif\u001b[0m \u001b[0mrun_metadata\u001b[0m\u001b[1;33m:\u001b[0m\u001b[1;33m\u001b[0m\u001b[0m\n\u001b[0;32m   1441\u001b[0m           \u001b[0mproto_data\u001b[0m \u001b[1;33m=\u001b[0m \u001b[0mtf_session\u001b[0m\u001b[1;33m.\u001b[0m\u001b[0mTF_GetBuffer\u001b[0m\u001b[1;33m(\u001b[0m\u001b[0mrun_metadata_ptr\u001b[0m\u001b[1;33m)\u001b[0m\u001b[1;33m\u001b[0m\u001b[0m\n",
      "\u001b[1;32me:\\python\\python35\\lib\\site-packages\\tensorflow\\python\\framework\\errors_impl.py\u001b[0m in \u001b[0;36m__exit__\u001b[1;34m(self, type_arg, value_arg, traceback_arg)\u001b[0m\n\u001b[0;32m    526\u001b[0m             \u001b[1;32mNone\u001b[0m\u001b[1;33m,\u001b[0m \u001b[1;32mNone\u001b[0m\u001b[1;33m,\u001b[0m\u001b[1;33m\u001b[0m\u001b[0m\n\u001b[0;32m    527\u001b[0m             \u001b[0mcompat\u001b[0m\u001b[1;33m.\u001b[0m\u001b[0mas_text\u001b[0m\u001b[1;33m(\u001b[0m\u001b[0mc_api\u001b[0m\u001b[1;33m.\u001b[0m\u001b[0mTF_Message\u001b[0m\u001b[1;33m(\u001b[0m\u001b[0mself\u001b[0m\u001b[1;33m.\u001b[0m\u001b[0mstatus\u001b[0m\u001b[1;33m.\u001b[0m\u001b[0mstatus\u001b[0m\u001b[1;33m)\u001b[0m\u001b[1;33m)\u001b[0m\u001b[1;33m,\u001b[0m\u001b[1;33m\u001b[0m\u001b[0m\n\u001b[1;32m--> 528\u001b[1;33m             c_api.TF_GetCode(self.status.status))\n\u001b[0m\u001b[0;32m    529\u001b[0m     \u001b[1;31m# Delete the underlying status object from memory otherwise it stays alive\u001b[0m\u001b[1;33m\u001b[0m\u001b[1;33m\u001b[0m\u001b[0m\n\u001b[0;32m    530\u001b[0m     \u001b[1;31m# as there is a reference to status from this from the traceback due to\u001b[0m\u001b[1;33m\u001b[0m\u001b[1;33m\u001b[0m\u001b[0m\n",
      "\u001b[1;31mResourceExhaustedError\u001b[0m: OOM when allocating tensor with shape[20,64,150,150] and type float on /job:localhost/replica:0/task:0/device:GPU:0 by allocator GPU_0_bfc\n\t [[{{node vgg16_1/block1_conv2/convolution}} = Conv2D[T=DT_FLOAT, data_format=\"NCHW\", dilations=[1, 1, 1, 1], padding=\"SAME\", strides=[1, 1, 1, 1], use_cudnn_on_gpu=true, _device=\"/job:localhost/replica:0/task:0/device:GPU:0\"](vgg16_1/block1_conv1/Relu, block1_conv2/kernel/read)]]\nHint: If you want to see a list of allocated tensors when OOM happens, add report_tensor_allocations_upon_oom to RunOptions for current allocation info.\n\n\t [[{{node metrics_14/acc/Mean_1/_1221}} = _Recv[client_terminated=false, recv_device=\"/job:localhost/replica:0/task:0/device:CPU:0\", send_device=\"/job:localhost/replica:0/task:0/device:GPU:0\", send_device_incarnation=1, tensor_name=\"edge_768_metrics_14/acc/Mean_1\", tensor_type=DT_FLOAT, _device=\"/job:localhost/replica:0/task:0/device:CPU:0\"]()]]\nHint: If you want to see a list of allocated tensors when OOM happens, add report_tensor_allocations_upon_oom to RunOptions for current allocation info.\n"
     ]
    }
   ],
   "source": [
    "history=model.fit_generator(\n",
    "        train_generator,\n",
    "        steps_per_epoch=100,\n",
    "        epochs=30,\n",
    "        validation_data=val_generator,\n",
    "        validation_steps=20)"
   ]
  },
  {
   "cell_type": "code",
   "execution_count": null,
   "metadata": {},
   "outputs": [],
   "source": []
  }
 ],
 "metadata": {
  "kernelspec": {
   "display_name": "Python 3",
   "language": "python",
   "name": "python3"
  },
  "language_info": {
   "codemirror_mode": {
    "name": "ipython",
    "version": 3
   },
   "file_extension": ".py",
   "mimetype": "text/x-python",
   "name": "python",
   "nbconvert_exporter": "python",
   "pygments_lexer": "ipython3",
   "version": "3.5.3"
  }
 },
 "nbformat": 4,
 "nbformat_minor": 2
}

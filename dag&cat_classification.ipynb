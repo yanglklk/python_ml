{
 "cells": [
  {
   "cell_type": "code",
   "execution_count": 1,
   "metadata": {},
   "outputs": [],
   "source": [
    "import os,shutil\n",
    "original_data_dir=r'F:\\work\\pywork\\ipython\\python_ml\\keras_data\\dog&cat\\train'\n",
    "base_dir=r'F:\\work\\pywork\\ipython\\python_ml\\keras_data\\dog&cat_small'\n",
    "\n",
    "if os.path.isdir(base_dir):\n",
    "    shutil.rmtree(base_dir)\n",
    "\n",
    "os.makedirs(base_dir)\n",
    "\n",
    "train_dir=os.path.join(base_dir,'train')\n",
    "os.makedirs(train_dir)\n",
    "val_dir=os.path.join(base_dir,'val')\n",
    "os.makedirs(val_dir)\n",
    "test_dir=os.path.join(base_dir,'test')\n",
    "os.makedirs(test_dir)\n",
    "\n",
    "train_cat_dir=os.path.join(train_dir,'cats')\n",
    "os.makedirs(train_cat_dir)\n",
    "train_dog_dir=os.path.join(train_dir,'dogs')\n",
    "os.makedirs(train_dog_dir)\n",
    "\n",
    "val_cat_dir=os.path.join(val_dir,'cats')\n",
    "os.makedirs(val_cat_dir)\n",
    "val_dog_dir=os.path.join(val_dir,'dogs')\n",
    "os.makedirs(val_dog_dir)\n",
    "\n",
    "test_cat_dir=os.path.join(test_dir,'cats')\n",
    "os.makedirs(test_cat_dir)\n",
    "test_dog_dir=os.path.join(test_dir,'dogs')\n",
    "os.makedirs(test_dog_dir)"
   ]
  },
  {
   "cell_type": "code",
   "execution_count": 2,
   "metadata": {},
   "outputs": [],
   "source": [
    "\n",
    "def copyfile(destination_path,fnames,original_data_dir=original_data_dir):\n",
    "    for fname in fnames:\n",
    "        src=os.path.join(original_data_dir,fname)\n",
    "        dst=os.path.join(destination_path,fname)\n",
    "        shutil.copyfile(src,dst)"
   ]
  },
  {
   "cell_type": "code",
   "execution_count": 3,
   "metadata": {},
   "outputs": [],
   "source": [
    "fnames=['cat.{}.jpg'.format(i) for i in range(1000)]\n",
    "copyfile(train_cat_dir,fnames)"
   ]
  },
  {
   "cell_type": "code",
   "execution_count": 4,
   "metadata": {},
   "outputs": [],
   "source": [
    "fnames=['cat.{}.jpg'.format(i) for i in range(1000,1500)]\n",
    "copyfile(val_cat_dir,fnames)\n",
    "fnames=['cat.{}.jpg'.format(i) for i in range(1500,2000)]\n",
    "copyfile(test_cat_dir,fnames)"
   ]
  },
  {
   "cell_type": "code",
   "execution_count": 5,
   "metadata": {},
   "outputs": [],
   "source": [
    "fnames=['dog.{}.jpg'.format(i) for i in range(1000)]\n",
    "copyfile(train_dog_dir,fnames)\n",
    "fnames=['dog.{}.jpg'.format(i) for i in range(1000,1500)]\n",
    "copyfile(val_dog_dir,fnames)\n",
    "fnames=['dog.{}.jpg'.format(i) for i in range(1500,2000)]\n",
    "copyfile(test_dog_dir,fnames)"
   ]
  },
  {
   "cell_type": "code",
   "execution_count": 6,
   "metadata": {},
   "outputs": [
    {
     "data": {
      "text/plain": [
       "1000"
      ]
     },
     "execution_count": 6,
     "metadata": {},
     "output_type": "execute_result"
    }
   ],
   "source": [
    "len(os.listdir(train_cat_dir))"
   ]
  },
  {
   "cell_type": "code",
   "execution_count": 7,
   "metadata": {},
   "outputs": [
    {
     "name": "stderr",
     "output_type": "stream",
     "text": [
      "Using TensorFlow backend.\n"
     ]
    },
    {
     "name": "stdout",
     "output_type": "stream",
     "text": [
      "_________________________________________________________________\n",
      "Layer (type)                 Output Shape              Param #   \n",
      "=================================================================\n",
      "conv2d_1 (Conv2D)            (None, 148, 148, 32)      896       \n",
      "_________________________________________________________________\n",
      "max_pooling2d_1 (MaxPooling2 (None, 74, 74, 32)        0         \n",
      "_________________________________________________________________\n",
      "conv2d_2 (Conv2D)            (None, 72, 72, 64)        18496     \n",
      "_________________________________________________________________\n",
      "max_pooling2d_2 (MaxPooling2 (None, 36, 36, 64)        0         \n",
      "_________________________________________________________________\n",
      "conv2d_3 (Conv2D)            (None, 34, 34, 128)       73856     \n",
      "_________________________________________________________________\n",
      "max_pooling2d_3 (MaxPooling2 (None, 17, 17, 128)       0         \n",
      "_________________________________________________________________\n",
      "conv2d_4 (Conv2D)            (None, 15, 15, 128)       147584    \n",
      "_________________________________________________________________\n",
      "max_pooling2d_4 (MaxPooling2 (None, 7, 7, 128)         0         \n",
      "_________________________________________________________________\n",
      "flatten_1 (Flatten)          (None, 6272)              0         \n",
      "_________________________________________________________________\n",
      "dense_1 (Dense)              (None, 512)               3211776   \n",
      "_________________________________________________________________\n",
      "dense_2 (Dense)              (None, 1)                 513       \n",
      "=================================================================\n",
      "Total params: 3,453,121\n",
      "Trainable params: 3,453,121\n",
      "Non-trainable params: 0\n",
      "_________________________________________________________________\n"
     ]
    }
   ],
   "source": [
    "from keras import models,layers\n",
    "model=models.Sequential()\n",
    "model.add(layers.Conv2D(32,(3,3),activation='relu',\n",
    "                       input_shape=(150,150,3)))\n",
    "model.add(layers.MaxPooling2D((2,2)))\n",
    "model.add(layers.Conv2D(64,(3,3),activation='relu'))\n",
    "model.add(layers.MaxPooling2D((2,2)))\n",
    "model.add(layers.Conv2D(128,(3,3),activation='relu'))\n",
    "model.add(layers.MaxPooling2D((2,2)))\n",
    "model.add(layers.Conv2D(128,(3,3),activation='relu'))\n",
    "model.add(layers.MaxPooling2D((2,2)))\n",
    "model.add(layers.Flatten())\n",
    "model.add(layers.Dense(512,activation='relu'))\n",
    "model.add(layers.Dense(1,activation='sigmoid'))\n",
    "model.summary()"
   ]
  },
  {
   "cell_type": "code",
   "execution_count": 8,
   "metadata": {},
   "outputs": [],
   "source": [
    "from keras import optimizers,losses\n",
    "\n",
    "model.compile(loss=losses.binary_crossentropy,\n",
    "             optimizer=optimizers.RMSprop(lr=1e-4),\n",
    "             metrics=['acc'])"
   ]
  },
  {
   "cell_type": "code",
   "execution_count": 9,
   "metadata": {},
   "outputs": [
    {
     "name": "stdout",
     "output_type": "stream",
     "text": [
      "Found 2000 images belonging to 2 classes.\n",
      "Found 1000 images belonging to 2 classes.\n"
     ]
    }
   ],
   "source": [
    "from keras.preprocessing.image import ImageDataGenerator\n",
    "train_datagen=ImageDataGenerator(rescale=1./255) \n",
    "test_datagen=ImageDataGenerator(rescale=1./255)\n",
    "train_genertor=train_datagen.flow_from_directory(\n",
    "                train_dir,\n",
    "                target_size=(150,150),\n",
    "                batch_size=20,\n",
    "                class_mode='binary')\n",
    "val_genertor=test_datagen.flow_from_directory(\n",
    "                val_dir,\n",
    "                target_size=(150,150),\n",
    "                batch_size=20,\n",
    "                class_mode='binary')"
   ]
  },
  {
   "cell_type": "code",
   "execution_count": 10,
   "metadata": {},
   "outputs": [
    {
     "name": "stdout",
     "output_type": "stream",
     "text": [
      "(20, 150, 150, 3) (20,)\n"
     ]
    }
   ],
   "source": [
    "i=0\n",
    "for data,label in train_genertor:\n",
    "    print(data.shape,label.shape)\n",
    "    break"
   ]
  },
  {
   "cell_type": "code",
   "execution_count": 11,
   "metadata": {},
   "outputs": [
    {
     "name": "stdout",
     "output_type": "stream",
     "text": [
      "Epoch 1/30\n",
      "100/100 [==============================] - 19s 190ms/step - loss: 0.6898 - acc: 0.5300 - val_loss: 0.6969 - val_acc: 0.5190\n",
      "Epoch 2/30\n",
      "100/100 [==============================] - 9s 86ms/step - loss: 0.6594 - acc: 0.6015 - val_loss: 0.6425 - val_acc: 0.6360\n",
      "Epoch 3/30\n",
      "100/100 [==============================] - 9s 87ms/step - loss: 0.6143 - acc: 0.6640 - val_loss: 0.6335 - val_acc: 0.6130\n",
      "Epoch 4/30\n",
      "100/100 [==============================] - 9s 86ms/step - loss: 0.5741 - acc: 0.7010 - val_loss: 0.5928 - val_acc: 0.6700\n",
      "Epoch 5/30\n",
      "100/100 [==============================] - 9s 86ms/step - loss: 0.5452 - acc: 0.7210 - val_loss: 0.5809 - val_acc: 0.6850\n",
      "Epoch 6/30\n",
      "100/100 [==============================] - 9s 85ms/step - loss: 0.5191 - acc: 0.7395 - val_loss: 0.5807 - val_acc: 0.6810\n",
      "Epoch 7/30\n",
      "100/100 [==============================] - 9s 85ms/step - loss: 0.4932 - acc: 0.7615 - val_loss: 0.5639 - val_acc: 0.6820\n",
      "Epoch 8/30\n",
      "100/100 [==============================] - 9s 85ms/step - loss: 0.4657 - acc: 0.7835 - val_loss: 0.5598 - val_acc: 0.6920\n",
      "Epoch 9/30\n",
      "100/100 [==============================] - 9s 86ms/step - loss: 0.4445 - acc: 0.7955 - val_loss: 0.5991 - val_acc: 0.6880\n",
      "Epoch 10/30\n",
      "100/100 [==============================] - 9s 85ms/step - loss: 0.4168 - acc: 0.8160 - val_loss: 0.5653 - val_acc: 0.7130\n",
      "Epoch 11/30\n",
      "100/100 [==============================] - 9s 85ms/step - loss: 0.3867 - acc: 0.8230 - val_loss: 0.5660 - val_acc: 0.7170\n",
      "Epoch 12/30\n",
      "100/100 [==============================] - 9s 85ms/step - loss: 0.3579 - acc: 0.8440 - val_loss: 0.5739 - val_acc: 0.7210\n",
      "Epoch 13/30\n",
      "100/100 [==============================] - 9s 86ms/step - loss: 0.3403 - acc: 0.8570 - val_loss: 0.5807 - val_acc: 0.7190\n",
      "Epoch 14/30\n",
      "100/100 [==============================] - 9s 85ms/step - loss: 0.3085 - acc: 0.8650 - val_loss: 0.6092 - val_acc: 0.7230\n",
      "Epoch 15/30\n",
      "100/100 [==============================] - 9s 85ms/step - loss: 0.2884 - acc: 0.8740 - val_loss: 0.6248 - val_acc: 0.7220\n",
      "Epoch 16/30\n",
      "100/100 [==============================] - 9s 85ms/step - loss: 0.2661 - acc: 0.8940 - val_loss: 0.5941 - val_acc: 0.7160\n",
      "Epoch 17/30\n",
      "100/100 [==============================] - 9s 85ms/step - loss: 0.2512 - acc: 0.9015 - val_loss: 0.5989 - val_acc: 0.7380\n",
      "Epoch 18/30\n",
      "100/100 [==============================] - 9s 85ms/step - loss: 0.2202 - acc: 0.9095 - val_loss: 0.6428 - val_acc: 0.7340\n",
      "Epoch 19/30\n",
      "100/100 [==============================] - 9s 85ms/step - loss: 0.1964 - acc: 0.9280 - val_loss: 0.6578 - val_acc: 0.7320\n",
      "Epoch 20/30\n",
      "100/100 [==============================] - 9s 85ms/step - loss: 0.1770 - acc: 0.9320 - val_loss: 0.6879 - val_acc: 0.7310\n",
      "Epoch 21/30\n",
      "100/100 [==============================] - 9s 85ms/step - loss: 0.1511 - acc: 0.9430 - val_loss: 0.7127 - val_acc: 0.7240\n",
      "Epoch 22/30\n",
      "100/100 [==============================] - 9s 85ms/step - loss: 0.1416 - acc: 0.9475 - val_loss: 0.7217 - val_acc: 0.7340\n",
      "Epoch 23/30\n",
      "100/100 [==============================] - 9s 85ms/step - loss: 0.1197 - acc: 0.9610 - val_loss: 0.7724 - val_acc: 0.7340\n",
      "Epoch 24/30\n",
      "100/100 [==============================] - 9s 85ms/step - loss: 0.1047 - acc: 0.9685 - val_loss: 0.7924 - val_acc: 0.7220\n",
      "Epoch 25/30\n",
      "100/100 [==============================] - 9s 85ms/step - loss: 0.0906 - acc: 0.9715 - val_loss: 0.8656 - val_acc: 0.7190\n",
      "Epoch 26/30\n",
      "100/100 [==============================] - 9s 85ms/step - loss: 0.0794 - acc: 0.9775 - val_loss: 0.8913 - val_acc: 0.7340\n",
      "Epoch 27/30\n",
      "100/100 [==============================] - 9s 85ms/step - loss: 0.0659 - acc: 0.9815 - val_loss: 0.9224 - val_acc: 0.7310\n",
      "Epoch 28/30\n",
      "100/100 [==============================] - 9s 86ms/step - loss: 0.0489 - acc: 0.9870 - val_loss: 0.9805 - val_acc: 0.7220\n",
      "Epoch 29/30\n",
      "100/100 [==============================] - 9s 85ms/step - loss: 0.0438 - acc: 0.9890 - val_loss: 0.9596 - val_acc: 0.7370\n",
      "Epoch 30/30\n",
      "100/100 [==============================] - 9s 85ms/step - loss: 0.0452 - acc: 0.9895 - val_loss: 1.0491 - val_acc: 0.7360\n"
     ]
    }
   ],
   "source": [
    "history=model.fit_generator(\n",
    "    train_genertor,\n",
    "    steps_per_epoch=100,\n",
    "    epochs=30,\n",
    "    validation_data=val_genertor,\n",
    "    validation_steps=50)\n",
    "model.save(r'model/cat_and_dog_small_1.h5')"
   ]
  },
  {
   "cell_type": "code",
   "execution_count": 12,
   "metadata": {},
   "outputs": [],
   "source": [
    "import matplotlib.pyplot as plt\n",
    "%matplotlib inline\n",
    "def plt_loss_acc(history):\n",
    "    acc=history.history['acc']\n",
    "    val_acc=history.history['val_acc']\n",
    "    loss=history.history['loss']\n",
    "    val_loss=history.history['val_loss']\n",
    "\n",
    "\n",
    "\n",
    "    epochs=range(1,len(acc)+1)\n",
    "    plt.plot(epochs,acc,'bo',label='train_acc')\n",
    "    plt.plot(epochs,val_acc,'b--',label='val_acc')\n",
    "\n",
    "    plt.legend()\n",
    "    plt.figure()\n",
    "    plt.plot(epochs,loss,'go',label='train_loss')\n",
    "    plt.plot(epochs,val_loss,'g--',label='val_loss')\n",
    "    plt.legend()"
   ]
  },
  {
   "cell_type": "code",
   "execution_count": 13,
   "metadata": {},
   "outputs": [],
   "source": [
    "from keras import models,layers,optimizers,losses\n",
    "model=models.Sequential()\n",
    "model.add(layers.Conv2D(32,(3,3),activation='relu',\n",
    "                       input_shape=(150,150,3)))\n",
    "model.add(layers.MaxPooling2D((2,2)))\n",
    "model.add(layers.Conv2D(64,(3,3),activation='relu'))\n",
    "model.add(layers.MaxPooling2D((2,2)))\n",
    "model.add(layers.Conv2D(128,(3,3),activation='relu'))\n",
    "model.add(layers.MaxPooling2D((2,2)))\n",
    "model.add(layers.Conv2D(128,(3,3),activation='relu'))\n",
    "model.add(layers.MaxPooling2D((2,2)))\n",
    "model.add(layers.Flatten())\n",
    "model.add(layers.Dropout(0.5))\n",
    "model.add(layers.Dense(512,activation='relu'))\n",
    "model.add(layers.Dense(1,activation='sigmoid'))\n",
    "\n",
    "\n",
    "model.compile(loss=losses.binary_crossentropy,\n",
    "             optimizer=optimizers.RMSprop(lr=1e-4),\n",
    "             metrics=['acc'])"
   ]
  },
  {
   "cell_type": "code",
   "execution_count": 14,
   "metadata": {},
   "outputs": [
    {
     "name": "stdout",
     "output_type": "stream",
     "text": [
      "Found 2000 images belonging to 2 classes.\n",
      "Found 1000 images belonging to 2 classes.\n",
      "Epoch 1/100\n",
      "100/100 [==============================] - 17s 175ms/step - loss: 0.6915 - acc: 0.5225 - val_loss: 0.6825 - val_acc: 0.5343\n",
      "Epoch 2/100\n",
      "100/100 [==============================] - 15s 154ms/step - loss: 0.6745 - acc: 0.5794 - val_loss: 0.6397 - val_acc: 0.6347\n",
      "Epoch 3/100\n",
      "100/100 [==============================] - 16s 158ms/step - loss: 0.6622 - acc: 0.6100 - val_loss: 0.6402 - val_acc: 0.6320\n",
      "Epoch 4/100\n",
      "100/100 [==============================] - 15s 155ms/step - loss: 0.6458 - acc: 0.6228 - val_loss: 0.6115 - val_acc: 0.6495\n",
      "Epoch 5/100\n",
      "100/100 [==============================] - 16s 155ms/step - loss: 0.6301 - acc: 0.6497 - val_loss: 0.5950 - val_acc: 0.6783\n",
      "Epoch 6/100\n",
      "100/100 [==============================] - 16s 155ms/step - loss: 0.6137 - acc: 0.6728 - val_loss: 0.5586 - val_acc: 0.7210\n",
      "Epoch 7/100\n",
      "100/100 [==============================] - 15s 155ms/step - loss: 0.6052 - acc: 0.6672 - val_loss: 0.5784 - val_acc: 0.6796\n",
      "Epoch 8/100\n",
      "100/100 [==============================] - 16s 155ms/step - loss: 0.6000 - acc: 0.6731 - val_loss: 0.5730 - val_acc: 0.6849\n",
      "Epoch 9/100\n",
      "100/100 [==============================] - 15s 154ms/step - loss: 0.5835 - acc: 0.6950 - val_loss: 0.5827 - val_acc: 0.7010\n",
      "Epoch 10/100\n",
      "100/100 [==============================] - 16s 156ms/step - loss: 0.5797 - acc: 0.6913 - val_loss: 0.5539 - val_acc: 0.7145\n",
      "Epoch 11/100\n",
      "100/100 [==============================] - 16s 155ms/step - loss: 0.5758 - acc: 0.6947 - val_loss: 0.5313 - val_acc: 0.7152\n",
      "Epoch 12/100\n",
      "100/100 [==============================] - 15s 155ms/step - loss: 0.5672 - acc: 0.7022 - val_loss: 0.5174 - val_acc: 0.7310\n",
      "Epoch 13/100\n",
      "100/100 [==============================] - 16s 156ms/step - loss: 0.5578 - acc: 0.7106 - val_loss: 0.5441 - val_acc: 0.7184\n",
      "Epoch 14/100\n",
      "100/100 [==============================] - 15s 155ms/step - loss: 0.5581 - acc: 0.7134 - val_loss: 0.5473 - val_acc: 0.7088\n",
      "Epoch 15/100\n",
      "100/100 [==============================] - 16s 155ms/step - loss: 0.5405 - acc: 0.7247 - val_loss: 0.5831 - val_acc: 0.6888\n",
      "Epoch 16/100\n",
      "100/100 [==============================] - 15s 155ms/step - loss: 0.5374 - acc: 0.7275 - val_loss: 0.4963 - val_acc: 0.7564\n",
      "Epoch 17/100\n",
      "100/100 [==============================] - 16s 156ms/step - loss: 0.5344 - acc: 0.7328 - val_loss: 0.4916 - val_acc: 0.7449\n",
      "Epoch 18/100\n",
      "100/100 [==============================] - 16s 155ms/step - loss: 0.5263 - acc: 0.7444 - val_loss: 0.5066 - val_acc: 0.7461\n",
      "Epoch 19/100\n",
      "100/100 [==============================] - 15s 155ms/step - loss: 0.5263 - acc: 0.7338 - val_loss: 0.4742 - val_acc: 0.7697\n",
      "Epoch 20/100\n",
      "100/100 [==============================] - 16s 155ms/step - loss: 0.5128 - acc: 0.7484 - val_loss: 0.5031 - val_acc: 0.7597\n",
      "Epoch 21/100\n",
      "100/100 [==============================] - 15s 155ms/step - loss: 0.5174 - acc: 0.7378 - val_loss: 0.4928 - val_acc: 0.7519\n",
      "Epoch 22/100\n",
      "100/100 [==============================] - 16s 155ms/step - loss: 0.5028 - acc: 0.7528 - val_loss: 0.4873 - val_acc: 0.7558\n",
      "Epoch 23/100\n",
      "100/100 [==============================] - 16s 156ms/step - loss: 0.5173 - acc: 0.7388 - val_loss: 0.4847 - val_acc: 0.7652\n",
      "Epoch 24/100\n",
      "100/100 [==============================] - 15s 155ms/step - loss: 0.4974 - acc: 0.7644 - val_loss: 0.4608 - val_acc: 0.7796\n",
      "Epoch 25/100\n",
      "100/100 [==============================] - 16s 156ms/step - loss: 0.4982 - acc: 0.7425 - val_loss: 0.4976 - val_acc: 0.7442\n",
      "Epoch 26/100\n",
      "100/100 [==============================] - 15s 155ms/step - loss: 0.5031 - acc: 0.7581 - val_loss: 0.4920 - val_acc: 0.7557\n",
      "Epoch 27/100\n",
      "100/100 [==============================] - 16s 155ms/step - loss: 0.4775 - acc: 0.7753 - val_loss: 0.4939 - val_acc: 0.7603\n",
      "Epoch 28/100\n",
      "100/100 [==============================] - 16s 155ms/step - loss: 0.4857 - acc: 0.7619 - val_loss: 0.5004 - val_acc: 0.7551\n",
      "Epoch 29/100\n",
      "100/100 [==============================] - 15s 154ms/step - loss: 0.4863 - acc: 0.7547 - val_loss: 0.4957 - val_acc: 0.7468\n",
      "Epoch 30/100\n",
      "100/100 [==============================] - 16s 155ms/step - loss: 0.4785 - acc: 0.7766 - val_loss: 0.6123 - val_acc: 0.6929\n",
      "Epoch 31/100\n",
      "100/100 [==============================] - 16s 158ms/step - loss: 0.4783 - acc: 0.7634 - val_loss: 0.4649 - val_acc: 0.7874\n",
      "Epoch 32/100\n",
      "100/100 [==============================] - 16s 155ms/step - loss: 0.4782 - acc: 0.7672 - val_loss: 0.4548 - val_acc: 0.7745\n",
      "Epoch 33/100\n",
      "100/100 [==============================] - 15s 155ms/step - loss: 0.4544 - acc: 0.7856 - val_loss: 0.4708 - val_acc: 0.7709\n",
      "Epoch 34/100\n",
      "100/100 [==============================] - 16s 155ms/step - loss: 0.4767 - acc: 0.7700 - val_loss: 0.4972 - val_acc: 0.7474\n",
      "Epoch 35/100\n",
      "100/100 [==============================] - 16s 155ms/step - loss: 0.4527 - acc: 0.7794 - val_loss: 0.4739 - val_acc: 0.7659\n",
      "Epoch 36/100\n",
      "100/100 [==============================] - 15s 154ms/step - loss: 0.4737 - acc: 0.7719 - val_loss: 0.4649 - val_acc: 0.7809\n",
      "Epoch 37/100\n",
      "100/100 [==============================] - 16s 161ms/step - loss: 0.4609 - acc: 0.7800 - val_loss: 0.4325 - val_acc: 0.8008\n",
      "Epoch 38/100\n",
      "100/100 [==============================] - 15s 154ms/step - loss: 0.4570 - acc: 0.7750 - val_loss: 0.4924 - val_acc: 0.7687\n",
      "Epoch 39/100\n",
      "100/100 [==============================] - 16s 155ms/step - loss: 0.4615 - acc: 0.7784 - val_loss: 0.4420 - val_acc: 0.7881\n",
      "Epoch 40/100\n",
      "100/100 [==============================] - 16s 155ms/step - loss: 0.4510 - acc: 0.7887 - val_loss: 0.4238 - val_acc: 0.8125\n",
      "Epoch 41/100\n",
      "100/100 [==============================] - 16s 158ms/step - loss: 0.4478 - acc: 0.7837 - val_loss: 0.4657 - val_acc: 0.7887\n",
      "Epoch 42/100\n",
      "100/100 [==============================] - 16s 155ms/step - loss: 0.4547 - acc: 0.7831 - val_loss: 0.4462 - val_acc: 0.7912\n",
      "Epoch 43/100\n",
      "100/100 [==============================] - 15s 154ms/step - loss: 0.4430 - acc: 0.7953 - val_loss: 0.4880 - val_acc: 0.7693\n",
      "Epoch 44/100\n",
      "100/100 [==============================] - 16s 155ms/step - loss: 0.4336 - acc: 0.7938 - val_loss: 0.4445 - val_acc: 0.7900\n",
      "Epoch 45/100\n",
      "100/100 [==============================] - 16s 155ms/step - loss: 0.4479 - acc: 0.7931 - val_loss: 0.5206 - val_acc: 0.7384\n",
      "Epoch 46/100\n",
      "100/100 [==============================] - 15s 155ms/step - loss: 0.4349 - acc: 0.7934 - val_loss: 0.4790 - val_acc: 0.7868\n",
      "Epoch 47/100\n",
      "100/100 [==============================] - 16s 155ms/step - loss: 0.4330 - acc: 0.7981 - val_loss: 0.4589 - val_acc: 0.7919\n",
      "Epoch 48/100\n",
      "100/100 [==============================] - 15s 154ms/step - loss: 0.4382 - acc: 0.7947 - val_loss: 0.4773 - val_acc: 0.7803\n",
      "Epoch 49/100\n",
      "100/100 [==============================] - 16s 155ms/step - loss: 0.4300 - acc: 0.7950 - val_loss: 0.4478 - val_acc: 0.7944\n",
      "Epoch 50/100\n",
      "100/100 [==============================] - 15s 154ms/step - loss: 0.4166 - acc: 0.8106 - val_loss: 0.4643 - val_acc: 0.7706\n",
      "Epoch 51/100\n",
      "100/100 [==============================] - 16s 155ms/step - loss: 0.4258 - acc: 0.8028 - val_loss: 0.4497 - val_acc: 0.7868\n",
      "Epoch 52/100\n",
      "100/100 [==============================] - 16s 158ms/step - loss: 0.4317 - acc: 0.7906 - val_loss: 0.4437 - val_acc: 0.7970\n",
      "Epoch 53/100\n",
      "100/100 [==============================] - 16s 156ms/step - loss: 0.4070 - acc: 0.8156 - val_loss: 0.4473 - val_acc: 0.7912\n",
      "Epoch 54/100\n",
      "100/100 [==============================] - 16s 155ms/step - loss: 0.4296 - acc: 0.7909 - val_loss: 0.4369 - val_acc: 0.7964\n",
      "Epoch 55/100\n",
      "100/100 [==============================] - 15s 155ms/step - loss: 0.4129 - acc: 0.8163 - val_loss: 0.4574 - val_acc: 0.7912\n",
      "Epoch 56/100\n",
      "100/100 [==============================] - 16s 155ms/step - loss: 0.4317 - acc: 0.8016 - val_loss: 0.4515 - val_acc: 0.8028\n",
      "Epoch 57/100\n",
      "100/100 [==============================] - 16s 155ms/step - loss: 0.4036 - acc: 0.8169 - val_loss: 0.4429 - val_acc: 0.7983\n",
      "Epoch 58/100\n",
      "100/100 [==============================] - 15s 155ms/step - loss: 0.3970 - acc: 0.8237 - val_loss: 0.4537 - val_acc: 0.7995\n",
      "Epoch 59/100\n",
      "100/100 [==============================] - 15s 155ms/step - loss: 0.4014 - acc: 0.8162 - val_loss: 0.4317 - val_acc: 0.8067\n",
      "Epoch 60/100\n"
     ]
    },
    {
     "name": "stdout",
     "output_type": "stream",
     "text": [
      "100/100 [==============================] - 15s 155ms/step - loss: 0.3974 - acc: 0.8091 - val_loss: 0.4483 - val_acc: 0.8077\n",
      "Epoch 61/100\n",
      "100/100 [==============================] - 15s 155ms/step - loss: 0.4056 - acc: 0.8138 - val_loss: 0.4454 - val_acc: 0.8048\n",
      "Epoch 62/100\n",
      "100/100 [==============================] - 16s 156ms/step - loss: 0.3948 - acc: 0.8253 - val_loss: 0.4414 - val_acc: 0.7982\n",
      "Epoch 63/100\n",
      "100/100 [==============================] - 15s 154ms/step - loss: 0.3979 - acc: 0.8175 - val_loss: 0.4902 - val_acc: 0.7861\n",
      "Epoch 64/100\n",
      "100/100 [==============================] - 15s 155ms/step - loss: 0.3934 - acc: 0.8269 - val_loss: 0.4081 - val_acc: 0.8151\n",
      "Epoch 65/100\n",
      "100/100 [==============================] - 15s 155ms/step - loss: 0.3917 - acc: 0.8156 - val_loss: 0.4485 - val_acc: 0.8084\n",
      "Epoch 66/100\n",
      "100/100 [==============================] - 16s 155ms/step - loss: 0.3942 - acc: 0.8209 - val_loss: 0.4668 - val_acc: 0.7945\n",
      "Epoch 67/100\n",
      "100/100 [==============================] - 15s 155ms/step - loss: 0.3897 - acc: 0.8259 - val_loss: 0.4394 - val_acc: 0.7900\n",
      "Epoch 68/100\n",
      "100/100 [==============================] - 15s 155ms/step - loss: 0.3780 - acc: 0.8306 - val_loss: 0.4862 - val_acc: 0.7996\n",
      "Epoch 69/100\n",
      "100/100 [==============================] - 16s 155ms/step - loss: 0.3866 - acc: 0.8281 - val_loss: 0.4813 - val_acc: 0.7855\n",
      "Epoch 70/100\n",
      "100/100 [==============================] - 15s 155ms/step - loss: 0.3699 - acc: 0.8381 - val_loss: 0.4576 - val_acc: 0.8003\n",
      "Epoch 71/100\n",
      "100/100 [==============================] - 15s 155ms/step - loss: 0.3621 - acc: 0.8337 - val_loss: 0.4276 - val_acc: 0.8154\n",
      "Epoch 72/100\n",
      "100/100 [==============================] - 15s 155ms/step - loss: 0.3862 - acc: 0.8256 - val_loss: 0.4190 - val_acc: 0.8280\n",
      "Epoch 73/100\n",
      "100/100 [==============================] - 16s 155ms/step - loss: 0.3626 - acc: 0.8362 - val_loss: 0.4014 - val_acc: 0.8286\n",
      "Epoch 74/100\n",
      "100/100 [==============================] - 16s 155ms/step - loss: 0.3688 - acc: 0.8309 - val_loss: 0.3930 - val_acc: 0.8230\n",
      "Epoch 75/100\n",
      "100/100 [==============================] - 15s 154ms/step - loss: 0.3661 - acc: 0.8334 - val_loss: 0.4852 - val_acc: 0.7706\n",
      "Epoch 76/100\n",
      "100/100 [==============================] - 16s 155ms/step - loss: 0.3651 - acc: 0.8334 - val_loss: 0.4850 - val_acc: 0.7925\n",
      "Epoch 77/100\n",
      "100/100 [==============================] - 15s 154ms/step - loss: 0.3832 - acc: 0.8316 - val_loss: 0.4304 - val_acc: 0.8222\n",
      "Epoch 78/100\n",
      "100/100 [==============================] - 16s 155ms/step - loss: 0.3669 - acc: 0.8375 - val_loss: 0.4015 - val_acc: 0.8255\n",
      "Epoch 79/100\n",
      "100/100 [==============================] - 15s 155ms/step - loss: 0.3595 - acc: 0.8331 - val_loss: 0.5008 - val_acc: 0.7796\n",
      "Epoch 80/100\n",
      "100/100 [==============================] - 15s 155ms/step - loss: 0.3541 - acc: 0.8481 - val_loss: 0.4521 - val_acc: 0.8067\n",
      "Epoch 81/100\n",
      "100/100 [==============================] - 16s 155ms/step - loss: 0.3543 - acc: 0.8466 - val_loss: 0.4168 - val_acc: 0.8166\n",
      "Epoch 82/100\n",
      "100/100 [==============================] - 15s 154ms/step - loss: 0.3489 - acc: 0.8447 - val_loss: 0.4285 - val_acc: 0.8028\n",
      "Epoch 83/100\n",
      "100/100 [==============================] - 16s 155ms/step - loss: 0.3619 - acc: 0.8328 - val_loss: 0.4674 - val_acc: 0.7912\n",
      "Epoch 84/100\n",
      "100/100 [==============================] - 15s 154ms/step - loss: 0.3461 - acc: 0.8500 - val_loss: 0.4265 - val_acc: 0.8048\n",
      "Epoch 85/100\n",
      "100/100 [==============================] - 16s 158ms/step - loss: 0.3396 - acc: 0.8547 - val_loss: 0.4748 - val_acc: 0.7874\n",
      "Epoch 86/100\n",
      "100/100 [==============================] - 16s 155ms/step - loss: 0.3589 - acc: 0.8394 - val_loss: 0.4361 - val_acc: 0.8028\n",
      "Epoch 87/100\n",
      "100/100 [==============================] - 15s 155ms/step - loss: 0.3460 - acc: 0.8494 - val_loss: 0.4105 - val_acc: 0.8211\n",
      "Epoch 88/100\n",
      "100/100 [==============================] - 15s 155ms/step - loss: 0.3466 - acc: 0.8494 - val_loss: 0.4474 - val_acc: 0.8131\n",
      "Epoch 89/100\n",
      "100/100 [==============================] - 15s 155ms/step - loss: 0.3338 - acc: 0.8562 - val_loss: 0.5008 - val_acc: 0.7790\n",
      "Epoch 90/100\n",
      "100/100 [==============================] - 16s 155ms/step - loss: 0.3392 - acc: 0.8516 - val_loss: 0.4256 - val_acc: 0.8027\n",
      "Epoch 91/100\n",
      "100/100 [==============================] - 16s 158ms/step - loss: 0.3344 - acc: 0.8450 - val_loss: 0.4648 - val_acc: 0.7951\n",
      "Epoch 92/100\n",
      "100/100 [==============================] - 15s 155ms/step - loss: 0.3247 - acc: 0.8559 - val_loss: 0.5299 - val_acc: 0.7709\n",
      "Epoch 93/100\n",
      "100/100 [==============================] - 16s 155ms/step - loss: 0.3353 - acc: 0.8534 - val_loss: 0.4363 - val_acc: 0.8428\n",
      "Epoch 94/100\n",
      "100/100 [==============================] - 15s 154ms/step - loss: 0.3372 - acc: 0.8550 - val_loss: 0.4151 - val_acc: 0.8077\n",
      "Epoch 95/100\n",
      "100/100 [==============================] - 16s 155ms/step - loss: 0.3277 - acc: 0.8534 - val_loss: 0.4869 - val_acc: 0.8157\n",
      "Epoch 96/100\n",
      "100/100 [==============================] - 15s 154ms/step - loss: 0.3279 - acc: 0.8581 - val_loss: 0.4263 - val_acc: 0.8344\n",
      "Epoch 97/100\n",
      "100/100 [==============================] - 16s 155ms/step - loss: 0.3135 - acc: 0.8631 - val_loss: 0.3951 - val_acc: 0.8236\n",
      "Epoch 98/100\n",
      "100/100 [==============================] - 16s 155ms/step - loss: 0.3078 - acc: 0.8666 - val_loss: 0.4173 - val_acc: 0.8312\n",
      "Epoch 99/100\n",
      "100/100 [==============================] - 15s 154ms/step - loss: 0.3311 - acc: 0.8547 - val_loss: 0.3916 - val_acc: 0.8369\n",
      "Epoch 100/100\n",
      "100/100 [==============================] - 16s 155ms/step - loss: 0.3319 - acc: 0.8569 - val_loss: 0.3772 - val_acc: 0.8299\n"
     ]
    }
   ],
   "source": [
    "train_datagen=ImageDataGenerator(\n",
    "    rescale=1./255,\n",
    "    rotation_range=40,\n",
    "    width_shift_range=0.2,\n",
    "    height_shift_range=0.2,\n",
    "    shear_range=0.2,\n",
    "    zoom_range=0.2,\n",
    "    horizontal_flip=True)\n",
    "test_datagen=ImageDataGenerator(rescale=1./255)\n",
    "train_genertor=train_datagen.flow_from_directory(\n",
    "    train_dir,\n",
    "    target_size=(150,150),\n",
    "    batch_size=32,\n",
    "    class_mode='binary')\n",
    "val_genertor=test_datagen.flow_from_directory(\n",
    "    val_dir,\n",
    "    target_size=(150,150),\n",
    "    batch_size=32,\n",
    "    class_mode='binary')\n",
    "history=model.fit_generator(\n",
    "    train_genertor,\n",
    "    epochs=100,\n",
    "    steps_per_epoch=100,\n",
    "    validation_data=val_genertor,\n",
    "    validation_steps=50)"
   ]
  },
  {
   "cell_type": "code",
   "execution_count": 15,
   "metadata": {},
   "outputs": [],
   "source": [
    "model.save(r'model\\cats_and_dogs_small_2.h5')"
   ]
  },
  {
   "cell_type": "code",
   "execution_count": 16,
   "metadata": {},
   "outputs": [
    {
     "name": "stdout",
     "output_type": "stream",
     "text": [
      "_________________________________________________________________\n",
      "Layer (type)                 Output Shape              Param #   \n",
      "=================================================================\n",
      "input_1 (InputLayer)         (None, 150, 150, 3)       0         \n",
      "_________________________________________________________________\n",
      "block1_conv1 (Conv2D)        (None, 150, 150, 64)      1792      \n",
      "_________________________________________________________________\n",
      "block1_conv2 (Conv2D)        (None, 150, 150, 64)      36928     \n",
      "_________________________________________________________________\n",
      "block1_pool (MaxPooling2D)   (None, 75, 75, 64)        0         \n",
      "_________________________________________________________________\n",
      "block2_conv1 (Conv2D)        (None, 75, 75, 128)       73856     \n",
      "_________________________________________________________________\n",
      "block2_conv2 (Conv2D)        (None, 75, 75, 128)       147584    \n",
      "_________________________________________________________________\n",
      "block2_pool (MaxPooling2D)   (None, 37, 37, 128)       0         \n",
      "_________________________________________________________________\n",
      "block3_conv1 (Conv2D)        (None, 37, 37, 256)       295168    \n",
      "_________________________________________________________________\n",
      "block3_conv2 (Conv2D)        (None, 37, 37, 256)       590080    \n",
      "_________________________________________________________________\n",
      "block3_conv3 (Conv2D)        (None, 37, 37, 256)       590080    \n",
      "_________________________________________________________________\n",
      "block3_pool (MaxPooling2D)   (None, 18, 18, 256)       0         \n",
      "_________________________________________________________________\n",
      "block4_conv1 (Conv2D)        (None, 18, 18, 512)       1180160   \n",
      "_________________________________________________________________\n",
      "block4_conv2 (Conv2D)        (None, 18, 18, 512)       2359808   \n",
      "_________________________________________________________________\n",
      "block4_conv3 (Conv2D)        (None, 18, 18, 512)       2359808   \n",
      "_________________________________________________________________\n",
      "block4_pool (MaxPooling2D)   (None, 9, 9, 512)         0         \n",
      "_________________________________________________________________\n",
      "block5_conv1 (Conv2D)        (None, 9, 9, 512)         2359808   \n",
      "_________________________________________________________________\n",
      "block5_conv2 (Conv2D)        (None, 9, 9, 512)         2359808   \n",
      "_________________________________________________________________\n",
      "block5_conv3 (Conv2D)        (None, 9, 9, 512)         2359808   \n",
      "_________________________________________________________________\n",
      "block5_pool (MaxPooling2D)   (None, 4, 4, 512)         0         \n",
      "=================================================================\n",
      "Total params: 14,714,688\n",
      "Trainable params: 14,714,688\n",
      "Non-trainable params: 0\n",
      "_________________________________________________________________\n"
     ]
    }
   ],
   "source": [
    "from keras.applications import VGG16\n",
    "conv_base=VGG16(\n",
    "    weights='imagenet',\n",
    "    include_top=False,\n",
    "    input_shape=(150,150,3))\n",
    "conv_base.summary()"
   ]
  },
  {
   "cell_type": "code",
   "execution_count": 17,
   "metadata": {},
   "outputs": [
    {
     "data": {
      "image/png": "[encoded data removed]",
      "text/plain": [
       "<Figure size 432x288 with 1 Axes>"
      ]
     },
     "metadata": {
      "needs_background": "light"
     },
     "output_type": "display_data"
    },
    {
     "data": {
      "image/png": "[encoded data removed]",
      "text/plain": [
       "<Figure size 432x288 with 1 Axes>"
      ]
     },
     "metadata": {
      "needs_background": "light"
     },
     "output_type": "display_data"
    }
   ],
   "source": [
    "plt_loss_acc(history)"
   ]
  },
  {
   "cell_type": "code",
   "execution_count": 18,
   "metadata": {},
   "outputs": [],
   "source": [
    "import os\n",
    "import numpy as np\n",
    "from keras.preprocessing.image import ImageDataGenerator\n",
    "\n",
    "datagen=ImageDataGenerator(rescale=1./255)\n",
    "batch_size=20\n",
    "\n",
    "def extract_features(directory,sample_count):\n",
    "    features=np.zeros(shape=(sample_count,4,4,512))\n",
    "    labels=np.zeros(shape=(sample_count))\n",
    "    generator=datagen.flow_from_directory(\n",
    "        directory,\n",
    "        batch_size=batch_size,\n",
    "        target_size=(150,150),\n",
    "        class_mode='binary')\n",
    "    i=0\n",
    "    for input_batch,label_batch in generator:\n",
    "        feature_batch=conv_base.predict(input_batch)\n",
    "        features[i*batch_size:(i+1)*batch_size]=feature_batch\n",
    "        labels[i*batch_size:(i+1)*batch_size]=label_batch\n",
    "        i+=1\n",
    "        if i*batch_size>=sample_count:\n",
    "            break\n",
    "    return features,labels"
   ]
  },
  {
   "cell_type": "code",
   "execution_count": 19,
   "metadata": {},
   "outputs": [
    {
     "name": "stdout",
     "output_type": "stream",
     "text": [
      "Found 2000 images belonging to 2 classes.\n",
      "Found 1000 images belonging to 2 classes.\n",
      "Found 1000 images belonging to 2 classes.\n"
     ]
    }
   ],
   "source": [
    "train_feature,train_labels=extract_features(train_dir,2000)\n",
    "val_feature,val_labels=extract_features(val_dir,1000)\n",
    "test_feature,test_labels=extract_features(test_dir,1000)"
   ]
  },
  {
   "cell_type": "code",
   "execution_count": 20,
   "metadata": {},
   "outputs": [],
   "source": [
    "train_feature=np.reshape(train_feature,(2000,4*4*512))\n",
    "val_feature=np.reshape(val_feature,(1000,4*4*512))\n",
    "test_feature=np.reshape(test_feature,(1000,4*4*512))"
   ]
  },
  {
   "cell_type": "code",
   "execution_count": 21,
   "metadata": {},
   "outputs": [
    {
     "name": "stdout",
     "output_type": "stream",
     "text": [
      "Train on 2000 samples, validate on 1000 samples\n",
      "Epoch 1/30\n",
      "2000/2000 [==============================] - 1s 651us/step - loss: 0.5915 - acc: 0.6810 - val_loss: 0.4376 - val_acc: 0.8340\n",
      "Epoch 2/30\n",
      "2000/2000 [==============================] - 1s 473us/step - loss: 0.4391 - acc: 0.7970 - val_loss: 0.3593 - val_acc: 0.8590\n",
      "Epoch 3/30\n",
      "2000/2000 [==============================] - 1s 478us/step - loss: 0.3492 - acc: 0.8585 - val_loss: 0.3267 - val_acc: 0.8680\n",
      "Epoch 4/30\n",
      "2000/2000 [==============================] - 1s 471us/step - loss: 0.3240 - acc: 0.8650 - val_loss: 0.2969 - val_acc: 0.8940\n",
      "Epoch 5/30\n",
      "2000/2000 [==============================] - 1s 485us/step - loss: 0.2916 - acc: 0.8820 - val_loss: 0.2820 - val_acc: 0.8970\n",
      "Epoch 6/30\n",
      "2000/2000 [==============================] - 1s 474us/step - loss: 0.2735 - acc: 0.8845 - val_loss: 0.2751 - val_acc: 0.8930\n",
      "Epoch 7/30\n",
      "2000/2000 [==============================] - 1s 490us/step - loss: 0.2500 - acc: 0.9020 - val_loss: 0.2621 - val_acc: 0.9020\n",
      "Epoch 8/30\n",
      "2000/2000 [==============================] - 1s 480us/step - loss: 0.2375 - acc: 0.9065 - val_loss: 0.2556 - val_acc: 0.9000\n",
      "Epoch 9/30\n",
      "2000/2000 [==============================] - 1s 479us/step - loss: 0.2261 - acc: 0.9165 - val_loss: 0.2535 - val_acc: 0.9010\n",
      "Epoch 10/30\n",
      "2000/2000 [==============================] - 1s 478us/step - loss: 0.2187 - acc: 0.9100 - val_loss: 0.2478 - val_acc: 0.9030\n",
      "Epoch 11/30\n",
      "2000/2000 [==============================] - 1s 478us/step - loss: 0.2013 - acc: 0.9305 - val_loss: 0.2434 - val_acc: 0.9040\n",
      "Epoch 12/30\n",
      "2000/2000 [==============================] - 1s 476us/step - loss: 0.1959 - acc: 0.9225 - val_loss: 0.2416 - val_acc: 0.9040\n",
      "Epoch 13/30\n",
      "2000/2000 [==============================] - 1s 476us/step - loss: 0.1733 - acc: 0.9365 - val_loss: 0.2388 - val_acc: 0.9040\n",
      "Epoch 14/30\n",
      "2000/2000 [==============================] - 1s 478us/step - loss: 0.1768 - acc: 0.9360 - val_loss: 0.2395 - val_acc: 0.9030\n",
      "Epoch 15/30\n",
      "2000/2000 [==============================] - 1s 476us/step - loss: 0.1646 - acc: 0.9420 - val_loss: 0.2352 - val_acc: 0.9030\n",
      "Epoch 16/30\n",
      "2000/2000 [==============================] - 1s 484us/step - loss: 0.1601 - acc: 0.9455 - val_loss: 0.2337 - val_acc: 0.9090\n",
      "Epoch 17/30\n",
      "2000/2000 [==============================] - 1s 482us/step - loss: 0.1495 - acc: 0.9480 - val_loss: 0.2353 - val_acc: 0.9020\n",
      "Epoch 18/30\n",
      "2000/2000 [==============================] - 1s 481us/step - loss: 0.1468 - acc: 0.9490 - val_loss: 0.2420 - val_acc: 0.8970\n",
      "Epoch 19/30\n",
      "2000/2000 [==============================] - 1s 474us/step - loss: 0.1382 - acc: 0.9525 - val_loss: 0.2318 - val_acc: 0.9030\n",
      "Epoch 20/30\n",
      "2000/2000 [==============================] - 1s 477us/step - loss: 0.1396 - acc: 0.9475 - val_loss: 0.2373 - val_acc: 0.9030\n",
      "Epoch 21/30\n",
      "2000/2000 [==============================] - 1s 479us/step - loss: 0.1278 - acc: 0.9630 - val_loss: 0.2301 - val_acc: 0.9070\n",
      "Epoch 22/30\n",
      "2000/2000 [==============================] - 1s 480us/step - loss: 0.1268 - acc: 0.9560 - val_loss: 0.2350 - val_acc: 0.9050\n",
      "Epoch 23/30\n",
      "2000/2000 [==============================] - 1s 478us/step - loss: 0.1224 - acc: 0.9610 - val_loss: 0.2312 - val_acc: 0.9000\n",
      "Epoch 24/30\n",
      "2000/2000 [==============================] - 1s 485us/step - loss: 0.1166 - acc: 0.9630 - val_loss: 0.2317 - val_acc: 0.9090\n",
      "Epoch 25/30\n",
      "2000/2000 [==============================] - 1s 475us/step - loss: 0.1140 - acc: 0.9625 - val_loss: 0.2350 - val_acc: 0.9050\n",
      "Epoch 26/30\n",
      "2000/2000 [==============================] - 1s 482us/step - loss: 0.1106 - acc: 0.9625 - val_loss: 0.2336 - val_acc: 0.9050\n",
      "Epoch 27/30\n",
      "2000/2000 [==============================] - 1s 479us/step - loss: 0.0996 - acc: 0.9665 - val_loss: 0.2450 - val_acc: 0.8990\n",
      "Epoch 28/30\n",
      "2000/2000 [==============================] - 1s 482us/step - loss: 0.0947 - acc: 0.9715 - val_loss: 0.2318 - val_acc: 0.9040\n",
      "Epoch 29/30\n",
      "2000/2000 [==============================] - 1s 476us/step - loss: 0.0964 - acc: 0.9690 - val_loss: 0.2374 - val_acc: 0.9010\n",
      "Epoch 30/30\n",
      "2000/2000 [==============================] - 1s 480us/step - loss: 0.0934 - acc: 0.9705 - val_loss: 0.2398 - val_acc: 0.9050\n"
     ]
    }
   ],
   "source": [
    "model=models.Sequential()\n",
    "model.add(layers.Dense(256,activation='relu',input_dim=4*4*512))\n",
    "model.add(layers.Dropout(0.5))\n",
    "model.add(layers.Dense(1,activation='sigmoid'))\n",
    "\n",
    "model.compile(optimizer=optimizers.RMSprop(lr=2e-5),\n",
    "             loss='binary_crossentropy',\n",
    "             metrics=['acc'])\n",
    "history=model.fit(\n",
    "    train_feature,train_labels,\n",
    "    epochs=30,batch_size=20,\n",
    "    validation_data=(val_feature,val_labels))"
   ]
  },
  {
   "cell_type": "code",
   "execution_count": 22,
   "metadata": {},
   "outputs": [
    {
     "data": {
      "image/png": "[encoded data removed]",
      "text/plain": [
       "<Figure size 432x288 with 1 Axes>"
      ]
     },
     "metadata": {
      "needs_background": "light"
     },
     "output_type": "display_data"
    },
    {
     "data": {
      "image/png": "[encoded data removed]",
      "text/plain": [
       "<Figure size 432x288 with 1 Axes>"
      ]
     },
     "metadata": {
      "needs_background": "light"
     },
     "output_type": "display_data"
    }
   ],
   "source": [
    "plt_loss_acc(history)"
   ]
  },
  {
   "cell_type": "code",
   "execution_count": 38,
   "metadata": {},
   "outputs": [],
   "source": [
    "model=models.Sequential()\n",
    "model.add(conv_base)\n",
    "model.add(layers.Flatten())\n",
    "model.add(layers.Dense(256,activation='relu'))\n",
    "model.add(layers.Dense(1,activation='sigmoid'))"
   ]
  },
  {
   "cell_type": "code",
   "execution_count": 39,
   "metadata": {},
   "outputs": [
    {
     "data": {
      "text/plain": [
       "10"
      ]
     },
     "execution_count": 39,
     "metadata": {},
     "output_type": "execute_result"
    }
   ],
   "source": [
    "len(model.trainable_weights)"
   ]
  },
  {
   "cell_type": "code",
   "execution_count": 40,
   "metadata": {},
   "outputs": [],
   "source": [
    "conv_base.trainable=False"
   ]
  },
  {
   "cell_type": "code",
   "execution_count": 41,
   "metadata": {},
   "outputs": [
    {
     "data": {
      "text/plain": [
       "4"
      ]
     },
     "execution_count": 41,
     "metadata": {},
     "output_type": "execute_result"
    }
   ],
   "source": [
    "len(model.trainable_weights)"
   ]
  },
  {
   "cell_type": "code",
   "execution_count": 42,
   "metadata": {},
   "outputs": [
    {
     "name": "stdout",
     "output_type": "stream",
     "text": [
      "Found 2000 images belonging to 2 classes.\n",
      "Found 1000 images belonging to 2 classes.\n"
     ]
    }
   ],
   "source": [
    "from keras.preprocessing.image import ImageDataGenerator\n",
    "from keras import optimizers,losses\n",
    "\n",
    "train_datagen=ImageDataGenerator(\n",
    "    rescale=1./255,\n",
    "    rotation_range=40,\n",
    "    width_shift_range=0.2,\n",
    "    height_shift_range=0.2,\n",
    "    shear_range=0.2,\n",
    "    zoom_range=0.2,\n",
    "    horizontal_flip=True,\n",
    "    fill_mode='nearest')\n",
    "test_datagen=ImageDataGenerator(rescale=1./255)\n",
    "\n",
    "train_generator=train_datagen.flow_from_directory(\n",
    "    train_dir,\n",
    "    target_size=(150,150),\n",
    "    batch_size=20,\n",
    "    class_mode='binary')\n",
    "\n",
    "val_generator=test_datagen.flow_from_directory(\n",
    "    val_dir,\n",
    "    target_size=(150,150),\n",
    "    batch_size=20,\n",
    "    class_mode='binary')\n",
    "\n",
    "model.compile(optimizer=optimizers.RMSprop(lr=2e-5),\n",
    "             loss=losses.binary_crossentropy,\n",
    "             metrics=['acc'])\n"
   ]
  },
  {
   "cell_type": "code",
   "execution_count": 43,
   "metadata": {},
   "outputs": [
    {
     "name": "stdout",
     "output_type": "stream",
     "text": [
      "Epoch 1/30\n",
      "100/100 [==============================] - 69s 692ms/step - loss: 0.3658 - acc: 0.8710 - val_loss: 0.2179 - val_acc: 0.9180\n",
      "Epoch 2/30\n",
      "100/100 [==============================] - 39s 390ms/step - loss: 0.1928 - acc: 0.9470 - val_loss: 0.1702 - val_acc: 0.9280\n",
      "Epoch 3/30\n",
      "100/100 [==============================] - 39s 390ms/step - loss: 0.1433 - acc: 0.9535 - val_loss: 0.1672 - val_acc: 0.9370\n",
      "Epoch 4/30\n",
      "100/100 [==============================] - 39s 390ms/step - loss: 0.1138 - acc: 0.9650 - val_loss: 0.1520 - val_acc: 0.9370\n",
      "Epoch 5/30\n",
      "100/100 [==============================] - 39s 390ms/step - loss: 0.0995 - acc: 0.9730 - val_loss: 0.1563 - val_acc: 0.9330\n",
      "Epoch 6/30\n",
      "100/100 [==============================] - 39s 390ms/step - loss: 0.0936 - acc: 0.9675 - val_loss: 0.1565 - val_acc: 0.9300\n",
      "Epoch 7/30\n",
      "100/100 [==============================] - 39s 390ms/step - loss: 0.0823 - acc: 0.9770 - val_loss: 0.1571 - val_acc: 0.9390\n",
      "Epoch 8/30\n",
      "100/100 [==============================] - 39s 390ms/step - loss: 0.0838 - acc: 0.9715 - val_loss: 0.1653 - val_acc: 0.9350\n",
      "Epoch 9/30\n",
      "100/100 [==============================] - 39s 390ms/step - loss: 0.0703 - acc: 0.9775 - val_loss: 0.1606 - val_acc: 0.9350\n",
      "Epoch 10/30\n",
      "100/100 [==============================] - 39s 390ms/step - loss: 0.0735 - acc: 0.9765 - val_loss: 0.1602 - val_acc: 0.9410\n",
      "Epoch 11/30\n",
      "100/100 [==============================] - 39s 390ms/step - loss: 0.0648 - acc: 0.9820 - val_loss: 0.1678 - val_acc: 0.9350\n",
      "Epoch 12/30\n",
      "100/100 [==============================] - 39s 390ms/step - loss: 0.0692 - acc: 0.9705 - val_loss: 0.1683 - val_acc: 0.9340\n",
      "Epoch 13/30\n",
      "100/100 [==============================] - 39s 390ms/step - loss: 0.0656 - acc: 0.9735 - val_loss: 0.1675 - val_acc: 0.9350\n",
      "Epoch 14/30\n",
      "100/100 [==============================] - 39s 390ms/step - loss: 0.0570 - acc: 0.9825 - val_loss: 0.1689 - val_acc: 0.9330\n",
      "Epoch 15/30\n",
      "100/100 [==============================] - 39s 390ms/step - loss: 0.0595 - acc: 0.9780 - val_loss: 0.1747 - val_acc: 0.9310\n",
      "Epoch 16/30\n",
      "100/100 [==============================] - 39s 389ms/step - loss: 0.0602 - acc: 0.9765 - val_loss: 0.1714 - val_acc: 0.9420\n",
      "Epoch 17/30\n",
      "100/100 [==============================] - 39s 390ms/step - loss: 0.0639 - acc: 0.9780 - val_loss: 0.1741 - val_acc: 0.9330\n",
      "Epoch 18/30\n",
      "100/100 [==============================] - 39s 390ms/step - loss: 0.0577 - acc: 0.9805 - val_loss: 0.1727 - val_acc: 0.9430\n",
      "Epoch 19/30\n",
      "100/100 [==============================] - 39s 389ms/step - loss: 0.0557 - acc: 0.9775 - val_loss: 0.1795 - val_acc: 0.9290\n",
      "Epoch 20/30\n",
      "100/100 [==============================] - 39s 390ms/step - loss: 0.0541 - acc: 0.9815 - val_loss: 0.1811 - val_acc: 0.9340\n",
      "Epoch 21/30\n",
      "100/100 [==============================] - 39s 390ms/step - loss: 0.0575 - acc: 0.9775 - val_loss: 0.1777 - val_acc: 0.9370\n",
      "Epoch 22/30\n",
      "100/100 [==============================] - 39s 390ms/step - loss: 0.0450 - acc: 0.9855 - val_loss: 0.1797 - val_acc: 0.9420\n",
      "Epoch 23/30\n",
      "100/100 [==============================] - 39s 390ms/step - loss: 0.0499 - acc: 0.9840 - val_loss: 0.1794 - val_acc: 0.9400\n",
      "Epoch 24/30\n",
      "100/100 [==============================] - 39s 390ms/step - loss: 0.0432 - acc: 0.9865 - val_loss: 0.1811 - val_acc: 0.9400\n",
      "Epoch 25/30\n",
      "100/100 [==============================] - 39s 390ms/step - loss: 0.0527 - acc: 0.9795 - val_loss: 0.1800 - val_acc: 0.9370\n",
      "Epoch 26/30\n",
      "100/100 [==============================] - 39s 390ms/step - loss: 0.0478 - acc: 0.9815 - val_loss: 0.1824 - val_acc: 0.9370\n",
      "Epoch 27/30\n",
      "100/100 [==============================] - 39s 391ms/step - loss: 0.0553 - acc: 0.9820 - val_loss: 0.1908 - val_acc: 0.9360\n",
      "Epoch 28/30\n",
      "100/100 [==============================] - 39s 391ms/step - loss: 0.0557 - acc: 0.9820 - val_loss: 0.1866 - val_acc: 0.9410\n",
      "Epoch 29/30\n",
      "100/100 [==============================] - 39s 390ms/step - loss: 0.0504 - acc: 0.9825 - val_loss: 0.1837 - val_acc: 0.9410\n",
      "Epoch 30/30\n",
      "100/100 [==============================] - 39s 391ms/step - loss: 0.0499 - acc: 0.9800 - val_loss: 0.2006 - val_acc: 0.9350\n"
     ]
    }
   ],
   "source": [
    "history=model.fit_generator(\n",
    "        train_generator,\n",
    "        steps_per_epoch=100,\n",
    "        epochs=30,\n",
    "        validation_data=val_generator,\n",
    "        validation_steps=50)"
   ]
  },
  {
   "cell_type": "code",
   "execution_count": 29,
   "metadata": {},
   "outputs": [
    {
     "data": {
      "image/png": "[encoded data removed]",
      "text/plain": [
       "<Figure size 432x288 with 1 Axes>"
      ]
     },
     "metadata": {
      "needs_background": "light"
     },
     "output_type": "display_data"
    },
    {
     "data": {
      "image/png": "[encoded data removed]",
      "text/plain": [
       "<Figure size 432x288 with 1 Axes>"
      ]
     },
     "metadata": {
      "needs_background": "light"
     },
     "output_type": "display_data"
    }
   ],
   "source": [
    "plt_loss_acc(history)"
   ]
  },
  {
   "cell_type": "code",
   "execution_count": 44,
   "metadata": {},
   "outputs": [],
   "source": [
    "model.save('model/cats_and_dogs_small_4.h5')"
   ]
  },
  {
   "cell_type": "code",
   "execution_count": 31,
   "metadata": {},
   "outputs": [
    {
     "name": "stdout",
     "output_type": "stream",
     "text": [
      "Found 1000 images belonging to 2 classes.\n",
      "0.8889999961853028 0.256202435977757\n"
     ]
    }
   ],
   "source": [
    "test_generator=test_datagen.flow_from_directory(\n",
    "    test_dir,\n",
    "    target_size=(150,150),\n",
    "    batch_size=20,\n",
    "    class_mode='binary')\n",
    "\n",
    "test_loss,test_acc=model.evaluate_generator(\n",
    "    test_generator,steps=50)\n",
    "print(test_acc,test_loss)"
   ]
  },
  {
   "cell_type": "code",
   "execution_count": 32,
   "metadata": {},
   "outputs": [
    {
     "data": {
      "text/plain": [
       "10"
      ]
     },
     "execution_count": 32,
     "metadata": {},
     "output_type": "execute_result"
    }
   ],
   "source": [
    "conv_base.trainable=True\n",
    "set_trainable=False\n",
    "for layer in conv_base.layers:\n",
    "    if layer.name=='block5_conv1':\n",
    "        set_trainable=True\n",
    "    if set_trainable:\n",
    "        layer.trainable=True\n",
    "    else:\n",
    "        layer.trainable=False\n",
    "len(model.trainable_weights)        "
   ]
  },
  {
   "cell_type": "code",
   "execution_count": 33,
   "metadata": {},
   "outputs": [],
   "source": [
    "model.compile(optimizer=optimizers.RMSprop(lr=1e-5),\n",
    "             loss=losses.binary_crossentropy,\n",
    "             metrics=['acc'])"
   ]
  },
  {
   "cell_type": "code",
   "execution_count": 34,
   "metadata": {},
   "outputs": [
    {
     "name": "stdout",
     "output_type": "stream",
     "text": [
      "Epoch 1/30\n",
      "100/100 [==============================] - 39s 388ms/step - loss: 0.2901 - acc: 0.8780 - val_loss: 0.2195 - val_acc: 0.9250\n",
      "Epoch 2/30\n",
      "100/100 [==============================] - 38s 378ms/step - loss: 0.2637 - acc: 0.8840 - val_loss: 0.2361 - val_acc: 0.8900\n",
      "Epoch 3/30\n",
      "100/100 [==============================] - 38s 378ms/step - loss: 0.2200 - acc: 0.9160 - val_loss: 0.1993 - val_acc: 0.9175\n",
      "Epoch 4/30\n",
      "100/100 [==============================] - 38s 378ms/step - loss: 0.2257 - acc: 0.9055 - val_loss: 0.2562 - val_acc: 0.8975\n",
      "Epoch 5/30\n",
      "100/100 [==============================] - 38s 377ms/step - loss: 0.2200 - acc: 0.9065 - val_loss: 0.2578 - val_acc: 0.9125\n",
      "Epoch 6/30\n",
      "100/100 [==============================] - 38s 378ms/step - loss: 0.1932 - acc: 0.9220 - val_loss: 0.1996 - val_acc: 0.9175\n",
      "Epoch 7/30\n",
      "100/100 [==============================] - 38s 378ms/step - loss: 0.1729 - acc: 0.9315 - val_loss: 0.1747 - val_acc: 0.9250\n",
      "Epoch 8/30\n",
      "100/100 [==============================] - 38s 378ms/step - loss: 0.1894 - acc: 0.9230 - val_loss: 0.2016 - val_acc: 0.9350\n",
      "Epoch 9/30\n",
      "100/100 [==============================] - 38s 378ms/step - loss: 0.1679 - acc: 0.9295 - val_loss: 0.1766 - val_acc: 0.9200\n",
      "Epoch 10/30\n",
      "100/100 [==============================] - 38s 378ms/step - loss: 0.1583 - acc: 0.9310 - val_loss: 0.1803 - val_acc: 0.9125\n",
      "Epoch 11/30\n",
      "100/100 [==============================] - 38s 378ms/step - loss: 0.1470 - acc: 0.9415 - val_loss: 0.3401 - val_acc: 0.8875\n",
      "Epoch 12/30\n",
      "100/100 [==============================] - 38s 378ms/step - loss: 0.1403 - acc: 0.9410 - val_loss: 0.1716 - val_acc: 0.9400\n",
      "Epoch 13/30\n",
      "100/100 [==============================] - 38s 378ms/step - loss: 0.1492 - acc: 0.9410 - val_loss: 0.1427 - val_acc: 0.9325\n",
      "Epoch 14/30\n",
      "100/100 [==============================] - 38s 378ms/step - loss: 0.1321 - acc: 0.9435 - val_loss: 0.2176 - val_acc: 0.9250\n",
      "Epoch 15/30\n",
      "100/100 [==============================] - 38s 378ms/step - loss: 0.1200 - acc: 0.9530 - val_loss: 0.2254 - val_acc: 0.9300\n",
      "Epoch 16/30\n",
      "100/100 [==============================] - 38s 378ms/step - loss: 0.1164 - acc: 0.9535 - val_loss: 0.1506 - val_acc: 0.9250\n",
      "Epoch 17/30\n",
      "100/100 [==============================] - 38s 378ms/step - loss: 0.1116 - acc: 0.9535 - val_loss: 0.1933 - val_acc: 0.9400\n",
      "Epoch 18/30\n",
      "100/100 [==============================] - 38s 378ms/step - loss: 0.1147 - acc: 0.9550 - val_loss: 0.1664 - val_acc: 0.9250\n",
      "Epoch 19/30\n",
      "100/100 [==============================] - 38s 378ms/step - loss: 0.1020 - acc: 0.9605 - val_loss: 0.2029 - val_acc: 0.9475\n",
      "Epoch 20/30\n",
      "100/100 [==============================] - 38s 378ms/step - loss: 0.1063 - acc: 0.9625 - val_loss: 0.2332 - val_acc: 0.9100\n",
      "Epoch 21/30\n",
      "100/100 [==============================] - 38s 378ms/step - loss: 0.0911 - acc: 0.9635 - val_loss: 0.1672 - val_acc: 0.9325\n",
      "Epoch 22/30\n",
      "100/100 [==============================] - 38s 378ms/step - loss: 0.0931 - acc: 0.9625 - val_loss: 0.2072 - val_acc: 0.9400\n",
      "Epoch 23/30\n",
      "100/100 [==============================] - 38s 378ms/step - loss: 0.0882 - acc: 0.9645 - val_loss: 0.1634 - val_acc: 0.9425\n",
      "Epoch 24/30\n",
      "100/100 [==============================] - 38s 378ms/step - loss: 0.0771 - acc: 0.9760 - val_loss: 0.2711 - val_acc: 0.9300\n",
      "Epoch 25/30\n",
      "100/100 [==============================] - 38s 378ms/step - loss: 0.0799 - acc: 0.9690 - val_loss: 0.3232 - val_acc: 0.9075\n",
      "Epoch 26/30\n",
      "100/100 [==============================] - 38s 378ms/step - loss: 0.0826 - acc: 0.9645 - val_loss: 0.2752 - val_acc: 0.9100\n",
      "Epoch 27/30\n",
      "100/100 [==============================] - 38s 378ms/step - loss: 0.0872 - acc: 0.9650 - val_loss: 0.1077 - val_acc: 0.9625\n",
      "Epoch 28/30\n",
      "100/100 [==============================] - 38s 378ms/step - loss: 0.0613 - acc: 0.9775 - val_loss: 0.2381 - val_acc: 0.9325\n",
      "Epoch 29/30\n",
      "100/100 [==============================] - 38s 378ms/step - loss: 0.0660 - acc: 0.9780 - val_loss: 0.1975 - val_acc: 0.9400\n",
      "Epoch 30/30\n",
      "100/100 [==============================] - 38s 378ms/step - loss: 0.0634 - acc: 0.9760 - val_loss: 0.1497 - val_acc: 0.9350\n"
     ]
    }
   ],
   "source": [
    "history=model.fit_generator(\n",
    "        train_generator,\n",
    "        steps_per_epoch=100,\n",
    "        epochs=30,\n",
    "        validation_data=val_generator,\n",
    "        validation_steps=20)"
   ]
  },
  {
   "cell_type": "code",
   "execution_count": 36,
   "metadata": {},
   "outputs": [],
   "source": [
    "model.save('model/cats_and_dogs_small_3.h5')"
   ]
  },
  {
   "cell_type": "code",
   "execution_count": null,
   "metadata": {},
   "outputs": [],
   "source": []
  }
 ],
 "metadata": {
  "kernelspec": {
   "display_name": "Python 3",
   "language": "python",
   "name": "python3"
  },
  "language_info": {
   "codemirror_mode": {
    "name": "ipython",
    "version": 3
   },
   "file_extension": ".py",
   "mimetype": "text/x-python",
   "name": "python",
   "nbconvert_exporter": "python",
   "pygments_lexer": "ipython3",
   "version": "3.5.3"
  }
 },
 "nbformat": 4,
 "nbformat_minor": 2
}
